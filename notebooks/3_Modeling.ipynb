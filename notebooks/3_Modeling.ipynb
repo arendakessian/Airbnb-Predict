{
 "cells": [
  {
   "cell_type": "markdown",
   "metadata": {},
   "source": [
    "# 3 Modeling"
   ]
  },
  {
   "cell_type": "markdown",
   "metadata": {},
   "source": [
    "# 0) Import Modules"
   ]
  },
  {
   "cell_type": "code",
   "execution_count": 16,
   "metadata": {},
   "outputs": [],
   "source": [
    "import os\n",
    "import pandas\n",
    "from zipfile import ZipFile\n",
    "\n",
    "import pandas as pd\n",
    "import numpy as np\n",
    "\n",
    "import matplotlib.pyplot as plt\n",
    "%matplotlib inline\n",
    "import seaborn as sns\n",
    "\n",
    "from sklearn.model_selection import train_test_split\n",
    "from sklearn.linear_model import LinearRegression\n",
    "from sklearn import preprocessing\n",
    "from sklearn.preprocessing import LabelEncoder\n",
    "\n",
    "from sklearn.pipeline import Pipeline, FeatureUnion\n",
    "from sklearn.preprocessing import StandardScaler, OneHotEncoder\n",
    "from sklearn.base import BaseEstimator, TransformerMixin\n",
    "from sklearn.compose import ColumnTransformer\n",
    "from sklearn.metrics import mean_squared_error\n",
    "from sklearn.impute import SimpleImputer\n",
    "from sklearn.model_selection import GridSearchCV\n",
    "from sklearn.linear_model import LinearRegression, Ridge,BayesianRidge, ElasticNet \n",
    "from sklearn.metrics import r2_score, mean_absolute_error, mean_squared_error\n",
    "from sklearn.model_selection import cross_val_score\n",
    "from sklearn.ensemble import RandomForestRegressor,GradientBoostingRegressor\n",
    "from sklearn.model_selection import RandomizedSearchCV\n",
    "from sklearn.decomposition import PCA\n",
    "from sklearn.neighbors import KNeighborsRegressor\n",
    "\n",
    "import warnings\n",
    "warnings.filterwarnings('ignore')"
   ]
  },
  {
   "cell_type": "markdown",
   "metadata": {},
   "source": [
    "# 1) Load Data"
   ]
  },
  {
   "cell_type": "code",
   "execution_count": 4,
   "metadata": {},
   "outputs": [],
   "source": [
    "'''\n",
    "Load the final data after two processing iterations.\n",
    "\n",
    "The raw data was initially cleaned by Ant which he put into airbnb_no_impute.csv which was then processed by\n",
    "Aren in the FeatureSelection.ipynb which created the final data used for modelling.\n",
    "'''\n",
    "\n",
    "data = pd.read_csv('C:\\\\Users\\\\eelis\\\\ds-ga1001\\\\data\\\\airbnb_eelis.csv')\n"
   ]
  },
  {
   "cell_type": "code",
   "execution_count": 4,
   "metadata": {},
   "outputs": [
    {
     "name": "stdout",
     "output_type": "stream",
     "text": [
      "/Users/anhthyngo/ds-ga1001-master/data/airbnb_final.csv.zip\n"
     ]
    }
   ],
   "source": [
    "os.chdir(\"/Users/anhthyngo/ds-ga1001-master/\")\n",
    "cwd = os.getcwd()\n",
    "datadir = '/'.join(cwd.split('/')) + '/data/'\n",
    "listings = datadir + 'airbnb_final.csv.zip'\n",
    "print(listings)"
   ]
  },
  {
   "cell_type": "code",
   "execution_count": 5,
   "metadata": {},
   "outputs": [
    {
     "data": {
      "text/html": [
       "<div>\n",
       "<style scoped>\n",
       "    .dataframe tbody tr th:only-of-type {\n",
       "        vertical-align: middle;\n",
       "    }\n",
       "\n",
       "    .dataframe tbody tr th {\n",
       "        vertical-align: top;\n",
       "    }\n",
       "\n",
       "    .dataframe thead th {\n",
       "        text-align: right;\n",
       "    }\n",
       "</style>\n",
       "<table border=\"1\" class=\"dataframe\">\n",
       "  <thead>\n",
       "    <tr style=\"text-align: right;\">\n",
       "      <th></th>\n",
       "      <th>latitude</th>\n",
       "      <th>longitude</th>\n",
       "      <th>accommodates</th>\n",
       "      <th>bathrooms</th>\n",
       "      <th>bedrooms</th>\n",
       "      <th>guests_included</th>\n",
       "      <th>minimum_nights</th>\n",
       "      <th>minimum_minimum_nights</th>\n",
       "      <th>minimum_nights_avg_ntm</th>\n",
       "      <th>availability_30</th>\n",
       "      <th>availability_60</th>\n",
       "      <th>availability_90</th>\n",
       "      <th>availability_365</th>\n",
       "      <th>number_of_reviews</th>\n",
       "      <th>number_of_reviews_ltm</th>\n",
       "      <th>review_scores_rating</th>\n",
       "      <th>reviews_per_month</th>\n",
       "      <th>extra_people</th>\n",
       "      <th>cleaning_fee</th>\n",
       "      <th>security_deposit</th>\n",
       "      <th>neighbourhood_group_cleansed_Manhattan</th>\n",
       "      <th>room_type_Entire home/apt</th>\n",
       "      <th>room_type_Private room</th>\n",
       "      <th>room_type_Shared room</th>\n",
       "      <th>price</th>\n",
       "    </tr>\n",
       "  </thead>\n",
       "  <tbody>\n",
       "    <tr>\n",
       "      <th>0</th>\n",
       "      <td>40.72764</td>\n",
       "      <td>-73.97949</td>\n",
       "      <td>2</td>\n",
       "      <td>1.0</td>\n",
       "      <td>1.0</td>\n",
       "      <td>2</td>\n",
       "      <td>30</td>\n",
       "      <td>30</td>\n",
       "      <td>30.0</td>\n",
       "      <td>12</td>\n",
       "      <td>42</td>\n",
       "      <td>72</td>\n",
       "      <td>347</td>\n",
       "      <td>94</td>\n",
       "      <td>0</td>\n",
       "      <td>95.0</td>\n",
       "      <td>0.73</td>\n",
       "      <td>15.0</td>\n",
       "      <td>75.0</td>\n",
       "      <td>500.0</td>\n",
       "      <td>1</td>\n",
       "      <td>1</td>\n",
       "      <td>0</td>\n",
       "      <td>0</td>\n",
       "      <td>4.753590</td>\n",
       "    </tr>\n",
       "    <tr>\n",
       "      <th>1</th>\n",
       "      <td>40.80316</td>\n",
       "      <td>-73.96545</td>\n",
       "      <td>2</td>\n",
       "      <td>1.0</td>\n",
       "      <td>1.0</td>\n",
       "      <td>1</td>\n",
       "      <td>5</td>\n",
       "      <td>5</td>\n",
       "      <td>5.0</td>\n",
       "      <td>1</td>\n",
       "      <td>1</td>\n",
       "      <td>1</td>\n",
       "      <td>40</td>\n",
       "      <td>54</td>\n",
       "      <td>12</td>\n",
       "      <td>93.0</td>\n",
       "      <td>0.43</td>\n",
       "      <td>0.0</td>\n",
       "      <td>75.0</td>\n",
       "      <td>450.0</td>\n",
       "      <td>1</td>\n",
       "      <td>1</td>\n",
       "      <td>0</td>\n",
       "      <td>0</td>\n",
       "      <td>4.905275</td>\n",
       "    </tr>\n",
       "    <tr>\n",
       "      <th>2</th>\n",
       "      <td>40.66829</td>\n",
       "      <td>-73.98779</td>\n",
       "      <td>2</td>\n",
       "      <td>1.0</td>\n",
       "      <td>1.0</td>\n",
       "      <td>1</td>\n",
       "      <td>4</td>\n",
       "      <td>4</td>\n",
       "      <td>4.0</td>\n",
       "      <td>6</td>\n",
       "      <td>29</td>\n",
       "      <td>59</td>\n",
       "      <td>332</td>\n",
       "      <td>171</td>\n",
       "      <td>14</td>\n",
       "      <td>94.0</td>\n",
       "      <td>1.35</td>\n",
       "      <td>22.0</td>\n",
       "      <td>67.0</td>\n",
       "      <td>200.0</td>\n",
       "      <td>0</td>\n",
       "      <td>0</td>\n",
       "      <td>1</td>\n",
       "      <td>0</td>\n",
       "      <td>4.488636</td>\n",
       "    </tr>\n",
       "    <tr>\n",
       "      <th>3</th>\n",
       "      <td>40.79826</td>\n",
       "      <td>-73.96113</td>\n",
       "      <td>1</td>\n",
       "      <td>1.0</td>\n",
       "      <td>1.0</td>\n",
       "      <td>1</td>\n",
       "      <td>2</td>\n",
       "      <td>2</td>\n",
       "      <td>2.0</td>\n",
       "      <td>3</td>\n",
       "      <td>24</td>\n",
       "      <td>54</td>\n",
       "      <td>329</td>\n",
       "      <td>116</td>\n",
       "      <td>25</td>\n",
       "      <td>92.0</td>\n",
       "      <td>0.92</td>\n",
       "      <td>40.0</td>\n",
       "      <td>80.0</td>\n",
       "      <td>200.0</td>\n",
       "      <td>1</td>\n",
       "      <td>0</td>\n",
       "      <td>1</td>\n",
       "      <td>0</td>\n",
       "      <td>4.442651</td>\n",
       "    </tr>\n",
       "    <tr>\n",
       "      <th>4</th>\n",
       "      <td>40.67592</td>\n",
       "      <td>-73.94694</td>\n",
       "      <td>4</td>\n",
       "      <td>1.0</td>\n",
       "      <td>1.0</td>\n",
       "      <td>3</td>\n",
       "      <td>3</td>\n",
       "      <td>3</td>\n",
       "      <td>3.0</td>\n",
       "      <td>0</td>\n",
       "      <td>8</td>\n",
       "      <td>34</td>\n",
       "      <td>34</td>\n",
       "      <td>62</td>\n",
       "      <td>53</td>\n",
       "      <td>96.0</td>\n",
       "      <td>4.39</td>\n",
       "      <td>50.0</td>\n",
       "      <td>70.0</td>\n",
       "      <td>500.0</td>\n",
       "      <td>0</td>\n",
       "      <td>1</td>\n",
       "      <td>0</td>\n",
       "      <td>0</td>\n",
       "      <td>4.595120</td>\n",
       "    </tr>\n",
       "  </tbody>\n",
       "</table>\n",
       "</div>"
      ],
      "text/plain": [
       "   latitude  longitude  accommodates  bathrooms  bedrooms  guests_included  \\\n",
       "0  40.72764  -73.97949             2        1.0       1.0                2   \n",
       "1  40.80316  -73.96545             2        1.0       1.0                1   \n",
       "2  40.66829  -73.98779             2        1.0       1.0                1   \n",
       "3  40.79826  -73.96113             1        1.0       1.0                1   \n",
       "4  40.67592  -73.94694             4        1.0       1.0                3   \n",
       "\n",
       "   minimum_nights  minimum_minimum_nights  minimum_nights_avg_ntm  \\\n",
       "0              30                      30                    30.0   \n",
       "1               5                       5                     5.0   \n",
       "2               4                       4                     4.0   \n",
       "3               2                       2                     2.0   \n",
       "4               3                       3                     3.0   \n",
       "\n",
       "   availability_30  availability_60  availability_90  availability_365  \\\n",
       "0               12               42               72               347   \n",
       "1                1                1                1                40   \n",
       "2                6               29               59               332   \n",
       "3                3               24               54               329   \n",
       "4                0                8               34                34   \n",
       "\n",
       "   number_of_reviews  number_of_reviews_ltm  review_scores_rating  \\\n",
       "0                 94                      0                  95.0   \n",
       "1                 54                     12                  93.0   \n",
       "2                171                     14                  94.0   \n",
       "3                116                     25                  92.0   \n",
       "4                 62                     53                  96.0   \n",
       "\n",
       "   reviews_per_month  extra_people  cleaning_fee  security_deposit  \\\n",
       "0               0.73          15.0          75.0             500.0   \n",
       "1               0.43           0.0          75.0             450.0   \n",
       "2               1.35          22.0          67.0             200.0   \n",
       "3               0.92          40.0          80.0             200.0   \n",
       "4               4.39          50.0          70.0             500.0   \n",
       "\n",
       "   neighbourhood_group_cleansed_Manhattan  room_type_Entire home/apt  \\\n",
       "0                                       1                          1   \n",
       "1                                       1                          1   \n",
       "2                                       0                          0   \n",
       "3                                       1                          0   \n",
       "4                                       0                          1   \n",
       "\n",
       "   room_type_Private room  room_type_Shared room     price  \n",
       "0                       0                      0  4.753590  \n",
       "1                       0                      0  4.905275  \n",
       "2                       1                      0  4.488636  \n",
       "3                       1                      0  4.442651  \n",
       "4                       0                      0  4.595120  "
      ]
     },
     "execution_count": 5,
     "metadata": {},
     "output_type": "execute_result"
    }
   ],
   "source": [
    "pd.set_option('display.max_rows', None)\n",
    "pd.set_option('display.max_columns', None)\n",
    "zf = ZipFile(listings) \n",
    "data = pd.read_csv(zf.open(\"airbnb_final.csv\"), low_memory=False)\n",
    "#data.drop('zipcode', axis = 1, inplace=True)\n",
    "data.head(5)\n"
   ]
  },
  {
   "cell_type": "code",
   "execution_count": 6,
   "metadata": {},
   "outputs": [
    {
     "data": {
      "text/plain": [
       "(array([ 338.,  814.,  925., 1054., 1314., 1727., 1139., 1364., 1598.,\n",
       "        1201.,  847.,  535.,  213.,  168.,  135.]),\n",
       " array([3.55534806, 3.73524678, 3.91514549, 4.09504421, 4.27494293,\n",
       "        4.45484164, 4.63474036, 4.81463908, 4.99453779, 5.17443651,\n",
       "        5.35433523, 5.53423394, 5.71413266, 5.89403138, 6.07393009,\n",
       "        6.25382881]),\n",
       " <a list of 15 Patch objects>)"
      ]
     },
     "execution_count": 6,
     "metadata": {},
     "output_type": "execute_result"
    },
    {
     "data": {
      "image/png": "[encoded data removed]",
      "text/plain": [
       "<matplotlib.figure.Figure at 0x1091698d0>"
      ]
     },
     "metadata": {},
     "output_type": "display_data"
    }
   ],
   "source": [
    "plt.hist(data['price'],bins = 15)"
   ]
  },
  {
   "cell_type": "code",
   "execution_count": 7,
   "metadata": {},
   "outputs": [],
   "source": [
    "'''\n",
    "Split data into X and y.\n",
    "'''\n",
    "\n",
    "y = data['price']\n",
    "X = data.drop('price',axis = 1)"
   ]
  },
  {
   "cell_type": "code",
   "execution_count": 8,
   "metadata": {},
   "outputs": [],
   "source": [
    "'''\n",
    "Split data into testing and final. \n",
    "\n",
    "**NOTE**\n",
    "The final dataset will be used only ONCE for the best performing model which we determine on the validation set. \n",
    "X_final and y_final will only be used at the very end of the script. X_train and y_train will contain BOTH the training AND\n",
    "validation sets.\n",
    "'''\n",
    "\n",
    "X_train, X_final, y_train, y_final = train_test_split(X, y, test_size=0.2, random_state = 42)"
   ]
  },
  {
   "cell_type": "markdown",
   "metadata": {},
   "source": [
    "# 2) Modeling"
   ]
  },
  {
   "cell_type": "markdown",
   "metadata": {},
   "source": [
    "# i) Baseline"
   ]
  },
  {
   "cell_type": "code",
   "execution_count": 9,
   "metadata": {},
   "outputs": [
    {
     "name": "stdout",
     "output_type": "stream",
     "text": [
      "0.10265544503291894\n",
      "0.005452969683675555\n"
     ]
    }
   ],
   "source": [
    "'''\n",
    "Using just a standard linear regression in order to get a baseline. 10 fold cv was used in order to evaluate the performance \n",
    "and the MSE was plotted on the graph.\n",
    "'''\n",
    "\n",
    "#Create model.\n",
    "lin_reg = LinearRegression()\n",
    "\n",
    "#Run 10 fold CV using MSE.\n",
    "scores = cross_val_score(lin_reg, X_train, y_train,scoring=\"neg_mean_squared_error\", cv = 10)\n",
    "scores =np.absolute(scores)\n",
    "\n",
    "#Print mean and std.\n",
    "print(scores.mean())\n",
    "print(scores.std())"
   ]
  },
  {
   "cell_type": "code",
   "execution_count": 14,
   "metadata": {},
   "outputs": [
    {
     "data": {
      "text/plain": [
       "<matplotlib.lines.Line2D at 0x1191f0780>"
      ]
     },
     "execution_count": 14,
     "metadata": {},
     "output_type": "execute_result"
    },
    {
     "data": {
      "image/png": "[encoded data removed]",
      "text/plain": [
       "<matplotlib.figure.Figure at 0x119081cf8>"
      ]
     },
     "metadata": {},
     "output_type": "display_data"
    }
   ],
   "source": [
    "'''\n",
    "Plot the MSE scores for each fold well as the mean MSE value as a horizontal line.\n",
    "'''\n",
    "#Set x and y axis\n",
    "vals = [i for i in range(1,len(scores)+1)]\n",
    "plt.bar(vals,scores, color = 'red')\n",
    "\n",
    "#Formatting\n",
    "plt.xlabel('CV Fold')\n",
    "plt.ylabel('MSE')\n",
    "plt.xticks(vals)\n",
    "plt.title('Baseline - linear regression')\n",
    "\n",
    "#Plot mean as horizontal line.\n",
    "plt.axhline(y=scores.mean(),linewidth=1, color='k')"
   ]
  },
  {
   "cell_type": "markdown",
   "metadata": {},
   "source": [
    "# ii) Improvements over baseline"
   ]
  },
  {
   "cell_type": "markdown",
   "metadata": {},
   "source": [
    "# Model 1: Elastic Net"
   ]
  },
  {
   "cell_type": "code",
   "execution_count": 17,
   "metadata": {},
   "outputs": [
    {
     "name": "stdout",
     "output_type": "stream",
     "text": [
      "Best parameter (CV score=-0.103):\n",
      "{'en__alpha': 0.0001, 'en__l1_ratio': 1}\n"
     ]
    }
   ],
   "source": [
    "'''\n",
    "Apply elastic net in a pipeline that first scales the data and then searches through the state space\n",
    "via a randomized grid search (in order to limit computation time.\n",
    "'''\n",
    "\n",
    "#Create pipeline steps. Good idea to scale features for Elastic net.\n",
    "steps = [('scaler', StandardScaler()),\n",
    "         ('en', ElasticNet())]\n",
    "\n",
    "#Now set up the pipeline\n",
    "pipeline = Pipeline(steps)\n",
    "\n",
    "#Set up the parameter grid in a dictionary format.\n",
    "parameters = dict(en__alpha = [0,0.0001,0.005,0.01,0.05,0.1,0.2],\n",
    "                  en__l1_ratio = [0,0.25,0.5,0.75,1])\n",
    "\n",
    "#Run grid search.\n",
    "search_1 = GridSearchCV(pipeline, param_grid = parameters, cv = 5, scoring = 'neg_mean_squared_error')\n",
    "search_1.fit(X_train, y_train)\n",
    "\n",
    "#Print the score and parameter of the best model.\n",
    "print(\"Best parameter (CV score=%0.3f):\" % search_1.best_score_)\n",
    "print(search_1.best_params_)"
   ]
  },
  {
   "cell_type": "markdown",
   "metadata": {},
   "source": [
    "# Model 2: PCA and elastic net"
   ]
  },
  {
   "cell_type": "code",
   "execution_count": 19,
   "metadata": {},
   "outputs": [
    {
     "name": "stdout",
     "output_type": "stream",
     "text": [
      "Best parameter (CV score=-0.103):\n",
      "{'elastic__alpha': 0.0001, 'elastic__l1_ratio': 1, 'pca__n_components': 24}\n"
     ]
    }
   ],
   "source": [
    "'''\n",
    "Evaluate if applying PCA followed by Elastic Net could lead to better performance.\n",
    "'''\n",
    "#Create Pipeline with Scaling, PCA and ElasticNet.\n",
    "pipeline = Pipeline(steps=[('scaler', StandardScaler()),('pca', PCA()), ('elastic', ElasticNet())])\n",
    "\n",
    "#Set parameter grid.\n",
    "parameters = dict(pca__n_components=[5,10,20,24],\n",
    "    elastic__alpha=[0,0.0001,0.005,0.01,0.05,0.1,0.2],\n",
    "    elastic__l1_ratio =[0,0.25,0.5,0.75,1]\n",
    ")\n",
    "\n",
    "#Run Random Grid Search.\n",
    "search_2 = GridSearchCV(pipeline, param_grid = parameters, cv = 5, scoring = 'neg_mean_squared_error')\n",
    "search_2.fit(X_train, y_train)\n",
    "\n",
    "#Print the score of the best model.\n",
    "print(\"Best parameter (CV score=%0.3f):\" % search_2.best_score_)\n",
    "print(search_2.best_params_)"
   ]
  },
  {
   "cell_type": "markdown",
   "metadata": {},
   "source": [
    "# Model 3: Random Forest"
   ]
  },
  {
   "cell_type": "code",
   "execution_count": 21,
   "metadata": {},
   "outputs": [
    {
     "name": "stdout",
     "output_type": "stream",
     "text": [
      "Best parameter (CV score=-0.083):\n",
      "{'rfr__max_features': 20, 'rfr__n_estimators': 1000}\n"
     ]
    }
   ],
   "source": [
    "'''\n",
    "Apply Random Forest.\n",
    "'''\n",
    "\n",
    "#No need to scale features for Random Forest.\n",
    "steps = [('rfr', RandomForestRegressor())]\n",
    "\n",
    "#Set up the pipeline\n",
    "pipeline = Pipeline(steps)\n",
    "\n",
    "#Set up the parameter grid. Not possible to check all parameters since it would take too long.\n",
    "parameters = dict(rfr__n_estimators = [50,100,200,1000],\n",
    "                  rfr__max_features = [1, 5, 20, 24],)\n",
    "\n",
    "#Run grid search\n",
    "search_3 = GridSearchCV(pipeline, param_grid = parameters, cv = 3, scoring = 'neg_mean_squared_error')\n",
    "search_3.fit(X_train, y_train)\n",
    "\n",
    "#Print the score of the best model\n",
    "print(\"Best parameter (CV score=%0.3f):\" % search_3.best_score_)\n",
    "print(search_3.best_params_)"
   ]
  },
  {
   "cell_type": "markdown",
   "metadata": {},
   "source": [
    "# Model 4 Gradient Boosting"
   ]
  },
  {
   "cell_type": "code",
   "execution_count": 22,
   "metadata": {},
   "outputs": [
    {
     "name": "stdout",
     "output_type": "stream",
     "text": [
      "Best parameter (CV score=-0.081):\n",
      "{'gbr__max_depth': 5, 'gbr__n_estimators': 200}\n"
     ]
    }
   ],
   "source": [
    "'''\n",
    "Apply Gradient Boosting.\n",
    "'''\n",
    "#No need to scale features for Gradient Boosting.\n",
    "steps = [('gbr',GradientBoostingRegressor())]\n",
    "\n",
    "#Set up the pipeline\n",
    "pipeline = Pipeline(steps)\n",
    "\n",
    "#Set up the parameter grid. Gradient boosting is quite robust against overfitting so used many estimators.\n",
    "parameters = dict(gbr__n_estimators = [50,100,200,1000],\n",
    "                  gbr__max_depth = [1,3,5,10],)\n",
    "\n",
    "#Run another grid search.\n",
    "search_4 = GridSearchCV(pipeline, param_grid = parameters, cv = 3, scoring = 'neg_mean_squared_error')\n",
    "#search_4 = RandomizedSearchCV(pipeline, param_distributions = parameters,n_iter =10, cv = 3, scoring = 'neg_mean_squared_error')\n",
    "search_4.fit(X_train, y_train)\n",
    "\n",
    "#Print the score of the best model.\n",
    "print(\"Best parameter (CV score=%0.3f):\" % search_4.best_score_)\n",
    "print(search_4.best_params_)"
   ]
  },
  {
   "cell_type": "markdown",
   "metadata": {},
   "source": [
    "# Model 5 KKN"
   ]
  },
  {
   "cell_type": "code",
   "execution_count": 23,
   "metadata": {},
   "outputs": [
    {
     "name": "stdout",
     "output_type": "stream",
     "text": [
      "Best parameter (CV score=-0.208):\n",
      "{'knn__n_neighbors': 20}\n"
     ]
    }
   ],
   "source": [
    "'''\n",
    "Use KNN as a non-parametric method.\n",
    "'''\n",
    "\n",
    "steps = [('knn',KNeighborsRegressor())]\n",
    "\n",
    "#Set up the pipeline\n",
    "pipeline = Pipeline(steps)\n",
    "\n",
    "#Set up the parameter grid. Gradient boosting is quite robust against overfitting so used many estimators.\n",
    "parameters = dict(knn__n_neighbors  = [1,3,5,10,20,50,100,150],)\n",
    "\n",
    "#Run another grid search.\n",
    "search_5 = GridSearchCV(pipeline, param_grid = parameters, cv = 5, scoring = 'neg_mean_squared_error')\n",
    "search_5.fit(X_train, y_train)\n",
    "\n",
    "#Print the score of the best model.\n",
    "print(\"Best parameter (CV score=%0.3f):\" % search_5.best_score_)\n",
    "print(search_5.best_params_)"
   ]
  },
  {
   "cell_type": "markdown",
   "metadata": {},
   "source": [
    "# Model comparison"
   ]
  },
  {
   "cell_type": "code",
   "execution_count": 24,
   "metadata": {},
   "outputs": [
    {
     "data": {
      "text/plain": [
       "<matplotlib.lines.Line2D at 0x11c9c7c88>"
      ]
     },
     "execution_count": 24,
     "metadata": {},
     "output_type": "execute_result"
    },
    {
     "data": {
      "image/png": "[encoded data removed]",
      "text/plain": [
       "<matplotlib.figure.Figure at 0x11c9dada0>"
      ]
     },
     "metadata": {},
     "output_type": "display_data"
    }
   ],
   "source": [
    "'''\n",
    "Compare each of the best performing models.\n",
    "'''\n",
    "#Add models to list.\n",
    "model_list=[]\n",
    "model_list.append(-search_1.best_score_)\n",
    "model_list.append(-search_2.best_score_)\n",
    "model_list.append(-search_3.best_score_)\n",
    "model_list.append(-search_4.best_score_)\n",
    "model_list.append(-search_5.best_score_)\n",
    "\n",
    "model_name = ['Elastic net','PCA','Random Forest','Gradient Boosting','KNN']\n",
    "\n",
    "plt.bar(model_name,model_list, color = 'red')\n",
    "\n",
    "#Formatting\n",
    "plt.xlabel('Model')\n",
    "plt.ylabel('MSE')\n",
    "plt.xticks(rotation='45')\n",
    "plt.title('Model comparison')\n",
    "\n",
    "#Plot baseline mean as horizontal line.\n",
    "plt.axhline(y=scores.mean(),linewidth=1, color='k')"
   ]
  },
  {
   "cell_type": "markdown",
   "metadata": {},
   "source": [
    "# Evaluate best model on testing data"
   ]
  },
  {
   "cell_type": "code",
   "execution_count": 25,
   "metadata": {},
   "outputs": [],
   "source": [
    "best_estimator = search_1.best_estimator_\n",
    "y_pred = best_estimator.predict(X_final)\n",
    "final_loss = mean_squared_error(y_final, y_pred)"
   ]
  },
  {
   "cell_type": "code",
   "execution_count": null,
   "metadata": {},
   "outputs": [],
   "source": []
  }
 ],
 "metadata": {
  "kernelspec": {
   "display_name": "Python 3",
   "language": "python",
   "name": "python3"
  },
  "language_info": {
   "codemirror_mode": {
    "name": "ipython",
    "version": 3
   },
   "file_extension": ".py",
   "mimetype": "text/x-python",
   "name": "python",
   "nbconvert_exporter": "python",
   "pygments_lexer": "ipython3",
   "version": "3.6.4"
  }
 },
 "nbformat": 4,
 "nbformat_minor": 2
}
