{
 "cells": [
  {
   "cell_type": "code",
   "execution_count": null,
   "metadata": {
    "collapsed": true
   },
   "outputs": [],
   "source": [
    "'''\n",
    "GOAL OF THIS NOTEBOOK\n",
    "(1)Explore inherent feature selection methods given by Random Forest. \n",
    "(2)Determine semi-arbitrary cutoff of % important, reduce using those features\n",
    "(3)Begin introductory model fitting, with goal of minimizing MSE as compared to Rsquared. \n",
    "'''"
   ]
  },
  {
   "cell_type": "code",
   "execution_count": null,
   "metadata": {
    "collapsed": true
   },
   "outputs": [],
   "source": [
    "'''\n",
    "NOTE\n",
    "The only thing you should have to change to be able to\n",
    "fully execute everything here is the \"path\" variable in the first block of code below. \n",
    "'''"
   ]
  },
  {
   "cell_type": "code",
   "execution_count": null,
   "metadata": {
    "collapsed": true
   },
   "outputs": [],
   "source": [
    "'''\n",
    "Data Pre-Processing\n",
    "'''"
   ]
  },
  {
   "cell_type": "code",
   "execution_count": 2,
   "metadata": {},
   "outputs": [],
   "source": [
    "import os\n",
    "from zipfile import ZipFile\n",
    "\n",
    "import pandas as pd\n",
    "import numpy as np\n",
    "\n",
    "import matplotlib.pyplot as plt\n",
    "%matplotlib inline\n",
    "import seaborn as sns\n",
    "\n",
    "import sklearn\n",
    "from sklearn.model_selection import train_test_split\n",
    "from sklearn.linear_model import LinearRegression\n",
    "from sklearn import preprocessing\n",
    "from sklearn.preprocessing import LabelEncoder\n",
    "from sklearn.pipeline import Pipeline\n",
    "from sklearn.preprocessing import Imputer\n",
    "from sklearn.preprocessing import StandardScaler, OneHotEncoder"
   ]
  },
  {
   "cell_type": "code",
   "execution_count": 4,
   "metadata": {},
   "outputs": [
    {
     "name": "stdout",
     "output_type": "stream",
     "text": [
      "/Users/anhthyngo/Documents/NYU/Fall 2019/DS-GA 1001/project/ds-ga1001/notebooks/data/airbnb_no_impute_20191202.zip\n"
     ]
    }
   ],
   "source": [
    "cwd = os.getcwd()\n",
    "datadir = '/'.join(cwd.split('/')) + '/data/'\n",
    "listings = datadir + 'airbnb_no_impute_20191202.zip'"
   ]
  },
  {
   "cell_type": "code",
   "execution_count": 107,
   "metadata": {
    "scrolled": false
   },
   "outputs": [
    {
     "data": {
      "text/html": [
       "<div>\n",
       "<style scoped>\n",
       "    .dataframe tbody tr th:only-of-type {\n",
       "        vertical-align: middle;\n",
       "    }\n",
       "\n",
       "    .dataframe tbody tr th {\n",
       "        vertical-align: top;\n",
       "    }\n",
       "\n",
       "    .dataframe thead th {\n",
       "        text-align: right;\n",
       "    }\n",
       "</style>\n",
       "<table border=\"1\" class=\"dataframe\">\n",
       "  <thead>\n",
       "    <tr style=\"text-align: right;\">\n",
       "      <th></th>\n",
       "      <th>zipcode</th>\n",
       "      <th>latitude</th>\n",
       "      <th>longitude</th>\n",
       "      <th>accommodates</th>\n",
       "      <th>bathrooms</th>\n",
       "      <th>bedrooms</th>\n",
       "      <th>beds</th>\n",
       "      <th>guests_included</th>\n",
       "      <th>minimum_nights</th>\n",
       "      <th>maximum_nights</th>\n",
       "      <th>...</th>\n",
       "      <th>property_type_Yurt</th>\n",
       "      <th>room_type_Entire home/apt</th>\n",
       "      <th>room_type_Hotel room</th>\n",
       "      <th>room_type_Private room</th>\n",
       "      <th>room_type_Shared room</th>\n",
       "      <th>bed_type_Airbed</th>\n",
       "      <th>bed_type_Couch</th>\n",
       "      <th>bed_type_Futon</th>\n",
       "      <th>bed_type_Pull-out Sofa</th>\n",
       "      <th>bed_type_Real Bed</th>\n",
       "    </tr>\n",
       "  </thead>\n",
       "  <tbody>\n",
       "    <tr>\n",
       "      <th>0</th>\n",
       "      <td>10027</td>\n",
       "      <td>40.80902</td>\n",
       "      <td>-73.94190</td>\n",
       "      <td>2</td>\n",
       "      <td>1.0</td>\n",
       "      <td>1.0</td>\n",
       "      <td>1.0</td>\n",
       "      <td>2</td>\n",
       "      <td>3</td>\n",
       "      <td>7</td>\n",
       "      <td>...</td>\n",
       "      <td>0</td>\n",
       "      <td>0</td>\n",
       "      <td>0</td>\n",
       "      <td>1</td>\n",
       "      <td>0</td>\n",
       "      <td>0</td>\n",
       "      <td>0</td>\n",
       "      <td>0</td>\n",
       "      <td>1</td>\n",
       "      <td>0</td>\n",
       "    </tr>\n",
       "    <tr>\n",
       "      <th>1</th>\n",
       "      <td>11238</td>\n",
       "      <td>40.68514</td>\n",
       "      <td>-73.95976</td>\n",
       "      <td>3</td>\n",
       "      <td>1.0</td>\n",
       "      <td>1.0</td>\n",
       "      <td>4.0</td>\n",
       "      <td>1</td>\n",
       "      <td>1</td>\n",
       "      <td>730</td>\n",
       "      <td>...</td>\n",
       "      <td>0</td>\n",
       "      <td>1</td>\n",
       "      <td>0</td>\n",
       "      <td>0</td>\n",
       "      <td>0</td>\n",
       "      <td>0</td>\n",
       "      <td>0</td>\n",
       "      <td>0</td>\n",
       "      <td>0</td>\n",
       "      <td>1</td>\n",
       "    </tr>\n",
       "    <tr>\n",
       "      <th>2</th>\n",
       "      <td>10016</td>\n",
       "      <td>40.74767</td>\n",
       "      <td>-73.97500</td>\n",
       "      <td>2</td>\n",
       "      <td>1.0</td>\n",
       "      <td>1.0</td>\n",
       "      <td>1.0</td>\n",
       "      <td>2</td>\n",
       "      <td>3</td>\n",
       "      <td>21</td>\n",
       "      <td>...</td>\n",
       "      <td>0</td>\n",
       "      <td>1</td>\n",
       "      <td>0</td>\n",
       "      <td>0</td>\n",
       "      <td>0</td>\n",
       "      <td>0</td>\n",
       "      <td>0</td>\n",
       "      <td>0</td>\n",
       "      <td>0</td>\n",
       "      <td>1</td>\n",
       "    </tr>\n",
       "    <tr>\n",
       "      <th>3</th>\n",
       "      <td>10019</td>\n",
       "      <td>40.76489</td>\n",
       "      <td>-73.98493</td>\n",
       "      <td>2</td>\n",
       "      <td>1.0</td>\n",
       "      <td>1.0</td>\n",
       "      <td>1.0</td>\n",
       "      <td>1</td>\n",
       "      <td>2</td>\n",
       "      <td>14</td>\n",
       "      <td>...</td>\n",
       "      <td>0</td>\n",
       "      <td>0</td>\n",
       "      <td>0</td>\n",
       "      <td>1</td>\n",
       "      <td>0</td>\n",
       "      <td>0</td>\n",
       "      <td>0</td>\n",
       "      <td>0</td>\n",
       "      <td>0</td>\n",
       "      <td>1</td>\n",
       "    </tr>\n",
       "    <tr>\n",
       "      <th>4</th>\n",
       "      <td>10025</td>\n",
       "      <td>40.80178</td>\n",
       "      <td>-73.96723</td>\n",
       "      <td>1</td>\n",
       "      <td>1.0</td>\n",
       "      <td>1.0</td>\n",
       "      <td>1.0</td>\n",
       "      <td>1</td>\n",
       "      <td>2</td>\n",
       "      <td>14</td>\n",
       "      <td>...</td>\n",
       "      <td>0</td>\n",
       "      <td>0</td>\n",
       "      <td>0</td>\n",
       "      <td>1</td>\n",
       "      <td>0</td>\n",
       "      <td>0</td>\n",
       "      <td>0</td>\n",
       "      <td>0</td>\n",
       "      <td>0</td>\n",
       "      <td>1</td>\n",
       "    </tr>\n",
       "  </tbody>\n",
       "</table>\n",
       "<p>5 rows × 309 columns</p>\n",
       "</div>"
      ],
      "text/plain": [
       "   zipcode  latitude  longitude  accommodates  bathrooms  bedrooms  beds  \\\n",
       "0    10027  40.80902  -73.94190             2        1.0       1.0   1.0   \n",
       "1    11238  40.68514  -73.95976             3        1.0       1.0   4.0   \n",
       "2    10016  40.74767  -73.97500             2        1.0       1.0   1.0   \n",
       "3    10019  40.76489  -73.98493             2        1.0       1.0   1.0   \n",
       "4    10025  40.80178  -73.96723             1        1.0       1.0   1.0   \n",
       "\n",
       "   guests_included  minimum_nights  maximum_nights        ...          \\\n",
       "0                2               3               7        ...           \n",
       "1                1               1             730        ...           \n",
       "2                2               3              21        ...           \n",
       "3                1               2              14        ...           \n",
       "4                1               2              14        ...           \n",
       "\n",
       "   property_type_Yurt  room_type_Entire home/apt  room_type_Hotel room  \\\n",
       "0                   0                          0                     0   \n",
       "1                   0                          1                     0   \n",
       "2                   0                          1                     0   \n",
       "3                   0                          0                     0   \n",
       "4                   0                          0                     0   \n",
       "\n",
       "   room_type_Private room  room_type_Shared room  bed_type_Airbed  \\\n",
       "0                       1                      0                0   \n",
       "1                       0                      0                0   \n",
       "2                       0                      0                0   \n",
       "3                       1                      0                0   \n",
       "4                       1                      0                0   \n",
       "\n",
       "   bed_type_Couch  bed_type_Futon  bed_type_Pull-out Sofa  bed_type_Real Bed  \n",
       "0               0               0                       1                  0  \n",
       "1               0               0                       0                  1  \n",
       "2               0               0                       0                  1  \n",
       "3               0               0                       0                  1  \n",
       "4               0               0                       0                  1  \n",
       "\n",
       "[5 rows x 309 columns]"
      ]
     },
     "execution_count": 107,
     "metadata": {},
     "output_type": "execute_result"
    }
   ],
   "source": [
    "pd.set_option('display.max_rows', None)\n",
    "pd.set_option('display.max_columns', None)\n",
    "zf = ZipFile(listings) \n",
    "data = pd.read_csv(zf.open(\"listings.csv\"), parse_dates=['host_since', 'first_review', 'last_review'], low_memory=False)\n",
    "\n",
    "path= \"/Users/Aren/ds-ga1001/data/airbnb_no_impute2.csv\"\n",
    "data = pd.read_csv(path)\n",
    "data.head(5)"
   ]
  },
  {
   "cell_type": "code",
   "execution_count": 108,
   "metadata": {
    "scrolled": true
   },
   "outputs": [
    {
     "data": {
      "text/plain": [
       "(47638, 309)"
      ]
     },
     "execution_count": 108,
     "metadata": {},
     "output_type": "execute_result"
    }
   ],
   "source": [
    "data.shape"
   ]
  },
  {
   "cell_type": "code",
   "execution_count": 109,
   "metadata": {
    "collapsed": true
   },
   "outputs": [],
   "source": [
    "X = data.drop('price',axis=1)\n",
    "Y = data.pop('price')\n"
   ]
  },
  {
   "cell_type": "code",
   "execution_count": 110,
   "metadata": {},
   "outputs": [
    {
     "data": {
      "text/plain": [
       "['review_scores_rating',\n",
       " 'review_scores_accuracy',\n",
       " 'review_scores_cleanliness',\n",
       " 'review_scores_checkin',\n",
       " 'review_scores_communication',\n",
       " 'review_scores_location',\n",
       " 'review_scores_value']"
      ]
     },
     "execution_count": 110,
     "metadata": {},
     "output_type": "execute_result"
    }
   ],
   "source": [
    "nan_cols = [i for i in X.columns if X[i].isnull().any()]\n",
    "nan_cols"
   ]
  },
  {
   "cell_type": "code",
   "execution_count": null,
   "metadata": {
    "collapsed": true
   },
   "outputs": [],
   "source": [
    "'''\n",
    "Some columns have NANs. To move forward with feature selection, these will be imputed. \n",
    "When we get to the pipeline implementation, we can be more careful about this. \n",
    "For now, as in line with the rest of our analysis, we'll impute with median. \n",
    "\n",
    "We will separately impute our training and testing split (block below)\n",
    "'''"
   ]
  },
  {
   "cell_type": "code",
   "execution_count": 111,
   "metadata": {
    "collapsed": true
   },
   "outputs": [],
   "source": [
    "'''\n",
    "PART 1 -- INHERENT FEATURE SELECTION OF RANDOM FOREST\n",
    "Essentially here we're just creating some notion of how a Regression RF does in terms of mean accuracy with or without \n",
    "certain features.\n",
    "While it's worth nothing there is zero model optimization going on here, there's still information to be gained. \n",
    "'''\n",
    "from sklearn.model_selection import train_test_split\n",
    "Xtrain,Xtest,Ytrain,Ytest = train_test_split(X,Y,test_size=.2,random_state=42)"
   ]
  },
  {
   "cell_type": "code",
   "execution_count": 114,
   "metadata": {},
   "outputs": [
    {
     "name": "stderr",
     "output_type": "stream",
     "text": [
      "/Users/Aren/anaconda/lib/python3.5/site-packages/pandas/core/generic.py:5434: SettingWithCopyWarning: \n",
      "A value is trying to be set on a copy of a slice from a DataFrame\n",
      "\n",
      "See the caveats in the documentation: http://pandas.pydata.org/pandas-docs/stable/indexing.html#indexing-view-versus-copy\n",
      "  self._update_inplace(new_data)\n"
     ]
    }
   ],
   "source": [
    "for col in nan_cols:\n",
    "    Xtrain[col].fillna(Xtrain[col].median(),inplace=True)\n",
    "    Xtest[col].fillna(Xtest[col].median(),inplace=True)"
   ]
  },
  {
   "cell_type": "code",
   "execution_count": 115,
   "metadata": {},
   "outputs": [
    {
     "name": "stderr",
     "output_type": "stream",
     "text": [
      "/Users/Aren/anaconda/lib/python3.5/site-packages/sklearn/ensemble/forest.py:248: FutureWarning: The default value of n_estimators will change from 10 in version 0.20 to 100 in 0.22.\n",
      "  \"10 in version 0.20 to 100 in 0.22.\", FutureWarning)\n"
     ]
    }
   ],
   "source": [
    "from sklearn.ensemble import RandomForestRegressor\n",
    "regr = RandomForestRegressor()\n",
    "model = regr.fit(Xtrain,Ytrain)"
   ]
  },
  {
   "cell_type": "code",
   "execution_count": null,
   "metadata": {
    "collapsed": true
   },
   "outputs": [],
   "source": [
    "'''\n",
    "Now that the model has been fit, we can look at what features it deems to be important. \n",
    "In addition, it's worth knowing the ratio of important variables to overall features. \n",
    "'''"
   ]
  },
  {
   "cell_type": "code",
   "execution_count": 116,
   "metadata": {},
   "outputs": [],
   "source": [
    "feature_importances = model.feature_importances_\n",
    "sorted_indices = np.argsort(feature_importances)"
   ]
  },
  {
   "cell_type": "code",
   "execution_count": null,
   "metadata": {
    "collapsed": true
   },
   "outputs": [],
   "source": [
    "'''\n",
    "The following block will produce a sorted list of the columns with a feature importance > .005,\n",
    "as well as some additional information (discussed above) that is worth knowing.\n",
    "'''"
   ]
  },
  {
   "cell_type": "code",
   "execution_count": 125,
   "metadata": {},
   "outputs": [
    {
     "name": "stdout",
     "output_type": "stream",
     "text": [
      "neighbourhood_cleansed_Theater District 0.14057858012096883\n",
      "longitude 0.09298356643570668\n",
      "bathrooms 0.07662514653516858\n",
      "minimum_nights 0.06814509941270092\n",
      "accommodates 0.0476369642724523\n",
      "latitude 0.04270809100844133\n",
      "maximum_nights 0.04219363731624001\n",
      "room_type_Entire home/apt 0.04098633637302451\n",
      "zipcode 0.03994631885824029\n",
      "number_of_reviews 0.03018396133468738\n",
      "availability_365 0.028882605411228966\n",
      "review_scores_rating 0.026805553581983277\n",
      "extra_people 0.025545342081168244\n",
      "review_scores_checkin 0.021741208585875325\n",
      "beds 0.020418264065019127\n",
      "bedrooms 0.019150490278983114\n",
      "availability_90 0.019081402241180545\n",
      "neighbourhood_cleansed_Astoria 0.019050188531999683\n",
      "neighbourhood_cleansed_Lower East Side 0.01857310952196271\n",
      "availability_60 0.01685532631051378\n",
      "property_type_Boutique hotel 0.013859988235074039\n",
      "availability_30 0.013780838872807736\n",
      "neighbourhood_cleansed_Tribeca 0.010237621734653545\n",
      "review_scores_location 0.009743990055025742\n",
      "neighbourhood_cleansed_East Harlem 0.008437725912150907\n",
      "review_scores_value 0.008306632250664699\n",
      "property_type_Condominium 0.007423659716279593\n",
      "guests_included 0.0057632506316184365\n",
      "neighbourhood_cleansed_Greenwich Village 0.0050923703910317865\n",
      "-------------------------------------------------------------------------\n",
      "29 variables account for 92.07 % of the feature importance.\n",
      "\n",
      "\n",
      "Can account for 92.07 % of the feature importance deemed by the model with 9.42 % \n",
      " of the original number of features\n",
      "-------------------------------------------------------------------------\n"
     ]
    }
   ],
   "source": [
    "total = 0 \n",
    "reduced_features = []\n",
    "for i in range(len(sorted_indices)):\n",
    "    feature , importance = list(X.columns)[sorted_indices[-i]], feature_importances[sorted_indices[-i]]\n",
    "    if(importance > .005):\n",
    "        reduced_features.append(feature)\n",
    "        total+=importance\n",
    "        print(feature,importance)\n",
    "print(\"-------------------------------------------------------------------------\")\n",
    "print(len(feature_importances[feature_importances>=.005]),\"variables account for\",round(total*100,2),\"% of the feature importance.\")\n",
    "print(\"\\n\")\n",
    "print(\"Can account for\",round(total*100,2),\"% of the feature importance deemed by the model with\",round((len(feature_importances[feature_importances>=.005])/X.shape[1])*100,2),\"% \\n of the original number of features\")\n",
    "print(\"-------------------------------------------------------------------------\")"
   ]
  },
  {
   "cell_type": "code",
   "execution_count": null,
   "metadata": {
    "collapsed": true
   },
   "outputs": [],
   "source": [
    "'''\n",
    "CONCLUSION\n",
    "29 variables account for 92% of feature importance seems to be a good tradeoff between\n",
    "complexity and feature relevance. We can move forward from here\n",
    "'''"
   ]
  },
  {
   "cell_type": "code",
   "execution_count": 132,
   "metadata": {
    "collapsed": true
   },
   "outputs": [],
   "source": [
    "'''\n",
    "PART 2a-- CREATING REDUCED DATASET\n",
    "'''"
   ]
  },
  {
   "cell_type": "code",
   "execution_count": 137,
   "metadata": {},
   "outputs": [
    {
     "data": {
      "text/html": [
       "<div>\n",
       "<style scoped>\n",
       "    .dataframe tbody tr th:only-of-type {\n",
       "        vertical-align: middle;\n",
       "    }\n",
       "\n",
       "    .dataframe tbody tr th {\n",
       "        vertical-align: top;\n",
       "    }\n",
       "\n",
       "    .dataframe thead th {\n",
       "        text-align: right;\n",
       "    }\n",
       "</style>\n",
       "<table border=\"1\" class=\"dataframe\">\n",
       "  <thead>\n",
       "    <tr style=\"text-align: right;\">\n",
       "      <th></th>\n",
       "      <th>zipcode</th>\n",
       "      <th>latitude</th>\n",
       "      <th>longitude</th>\n",
       "      <th>accommodates</th>\n",
       "      <th>bathrooms</th>\n",
       "      <th>bedrooms</th>\n",
       "      <th>beds</th>\n",
       "      <th>guests_included</th>\n",
       "      <th>minimum_nights</th>\n",
       "      <th>maximum_nights</th>\n",
       "      <th>...</th>\n",
       "      <th>price</th>\n",
       "      <th>neighbourhood_cleansed_Astoria</th>\n",
       "      <th>neighbourhood_cleansed_East Harlem</th>\n",
       "      <th>neighbourhood_cleansed_Greenwich Village</th>\n",
       "      <th>neighbourhood_cleansed_Lower East Side</th>\n",
       "      <th>neighbourhood_cleansed_Theater District</th>\n",
       "      <th>neighbourhood_cleansed_Tribeca</th>\n",
       "      <th>property_type_Boutique hotel</th>\n",
       "      <th>property_type_Condominium</th>\n",
       "      <th>room_type_Entire home/apt</th>\n",
       "    </tr>\n",
       "  </thead>\n",
       "  <tbody>\n",
       "    <tr>\n",
       "      <th>0</th>\n",
       "      <td>10027</td>\n",
       "      <td>40.80902</td>\n",
       "      <td>-73.94190</td>\n",
       "      <td>2</td>\n",
       "      <td>1.0</td>\n",
       "      <td>1.0</td>\n",
       "      <td>1.0</td>\n",
       "      <td>2</td>\n",
       "      <td>3</td>\n",
       "      <td>7</td>\n",
       "      <td>...</td>\n",
       "      <td>150.0</td>\n",
       "      <td>0</td>\n",
       "      <td>0</td>\n",
       "      <td>0</td>\n",
       "      <td>0</td>\n",
       "      <td>0</td>\n",
       "      <td>0</td>\n",
       "      <td>0</td>\n",
       "      <td>0</td>\n",
       "      <td>0</td>\n",
       "    </tr>\n",
       "    <tr>\n",
       "      <th>1</th>\n",
       "      <td>11238</td>\n",
       "      <td>40.68514</td>\n",
       "      <td>-73.95976</td>\n",
       "      <td>3</td>\n",
       "      <td>1.0</td>\n",
       "      <td>1.0</td>\n",
       "      <td>4.0</td>\n",
       "      <td>1</td>\n",
       "      <td>1</td>\n",
       "      <td>730</td>\n",
       "      <td>...</td>\n",
       "      <td>89.0</td>\n",
       "      <td>0</td>\n",
       "      <td>0</td>\n",
       "      <td>0</td>\n",
       "      <td>0</td>\n",
       "      <td>0</td>\n",
       "      <td>0</td>\n",
       "      <td>0</td>\n",
       "      <td>0</td>\n",
       "      <td>1</td>\n",
       "    </tr>\n",
       "    <tr>\n",
       "      <th>2</th>\n",
       "      <td>10016</td>\n",
       "      <td>40.74767</td>\n",
       "      <td>-73.97500</td>\n",
       "      <td>2</td>\n",
       "      <td>1.0</td>\n",
       "      <td>1.0</td>\n",
       "      <td>1.0</td>\n",
       "      <td>2</td>\n",
       "      <td>3</td>\n",
       "      <td>21</td>\n",
       "      <td>...</td>\n",
       "      <td>200.0</td>\n",
       "      <td>0</td>\n",
       "      <td>0</td>\n",
       "      <td>0</td>\n",
       "      <td>0</td>\n",
       "      <td>0</td>\n",
       "      <td>0</td>\n",
       "      <td>0</td>\n",
       "      <td>0</td>\n",
       "      <td>1</td>\n",
       "    </tr>\n",
       "    <tr>\n",
       "      <th>3</th>\n",
       "      <td>10019</td>\n",
       "      <td>40.76489</td>\n",
       "      <td>-73.98493</td>\n",
       "      <td>2</td>\n",
       "      <td>1.0</td>\n",
       "      <td>1.0</td>\n",
       "      <td>1.0</td>\n",
       "      <td>1</td>\n",
       "      <td>2</td>\n",
       "      <td>14</td>\n",
       "      <td>...</td>\n",
       "      <td>79.0</td>\n",
       "      <td>0</td>\n",
       "      <td>0</td>\n",
       "      <td>0</td>\n",
       "      <td>0</td>\n",
       "      <td>0</td>\n",
       "      <td>0</td>\n",
       "      <td>0</td>\n",
       "      <td>0</td>\n",
       "      <td>0</td>\n",
       "    </tr>\n",
       "    <tr>\n",
       "      <th>4</th>\n",
       "      <td>10025</td>\n",
       "      <td>40.80178</td>\n",
       "      <td>-73.96723</td>\n",
       "      <td>1</td>\n",
       "      <td>1.0</td>\n",
       "      <td>1.0</td>\n",
       "      <td>1.0</td>\n",
       "      <td>1</td>\n",
       "      <td>2</td>\n",
       "      <td>14</td>\n",
       "      <td>...</td>\n",
       "      <td>79.0</td>\n",
       "      <td>0</td>\n",
       "      <td>0</td>\n",
       "      <td>0</td>\n",
       "      <td>0</td>\n",
       "      <td>0</td>\n",
       "      <td>0</td>\n",
       "      <td>0</td>\n",
       "      <td>0</td>\n",
       "      <td>0</td>\n",
       "    </tr>\n",
       "  </tbody>\n",
       "</table>\n",
       "<p>5 rows × 30 columns</p>\n",
       "</div>"
      ],
      "text/plain": [
       "   zipcode  latitude  longitude  accommodates  bathrooms  bedrooms  beds  \\\n",
       "0    10027  40.80902  -73.94190             2        1.0       1.0   1.0   \n",
       "1    11238  40.68514  -73.95976             3        1.0       1.0   4.0   \n",
       "2    10016  40.74767  -73.97500             2        1.0       1.0   1.0   \n",
       "3    10019  40.76489  -73.98493             2        1.0       1.0   1.0   \n",
       "4    10025  40.80178  -73.96723             1        1.0       1.0   1.0   \n",
       "\n",
       "   guests_included  minimum_nights  maximum_nights            ...              \\\n",
       "0                2               3               7            ...               \n",
       "1                1               1             730            ...               \n",
       "2                2               3              21            ...               \n",
       "3                1               2              14            ...               \n",
       "4                1               2              14            ...               \n",
       "\n",
       "   price  neighbourhood_cleansed_Astoria  neighbourhood_cleansed_East Harlem  \\\n",
       "0  150.0                               0                                   0   \n",
       "1   89.0                               0                                   0   \n",
       "2  200.0                               0                                   0   \n",
       "3   79.0                               0                                   0   \n",
       "4   79.0                               0                                   0   \n",
       "\n",
       "   neighbourhood_cleansed_Greenwich Village  \\\n",
       "0                                         0   \n",
       "1                                         0   \n",
       "2                                         0   \n",
       "3                                         0   \n",
       "4                                         0   \n",
       "\n",
       "   neighbourhood_cleansed_Lower East Side  \\\n",
       "0                                       0   \n",
       "1                                       0   \n",
       "2                                       0   \n",
       "3                                       0   \n",
       "4                                       0   \n",
       "\n",
       "   neighbourhood_cleansed_Theater District  neighbourhood_cleansed_Tribeca  \\\n",
       "0                                        0                               0   \n",
       "1                                        0                               0   \n",
       "2                                        0                               0   \n",
       "3                                        0                               0   \n",
       "4                                        0                               0   \n",
       "\n",
       "   property_type_Boutique hotel  property_type_Condominium  \\\n",
       "0                             0                          0   \n",
       "1                             0                          0   \n",
       "2                             0                          0   \n",
       "3                             0                          0   \n",
       "4                             0                          0   \n",
       "\n",
       "   room_type_Entire home/apt  \n",
       "0                          0  \n",
       "1                          1  \n",
       "2                          1  \n",
       "3                          0  \n",
       "4                          0  \n",
       "\n",
       "[5 rows x 30 columns]"
      ]
     },
     "execution_count": 137,
     "metadata": {},
     "output_type": "execute_result"
    }
   ],
   "source": [
    "'''\n",
    "Re-reading in data so we don't have any carryover from modifications in step1\n",
    "'''\n",
    "\n",
    "data = pd.read_csv(path)\n",
    "reduced_features.append('price')\n",
    "newdata =  data[[c for c in data.columns if c in reduced_features]]\n",
    "newdata.head()"
   ]
  },
  {
   "cell_type": "code",
   "execution_count": 139,
   "metadata": {},
   "outputs": [
    {
     "data": {
      "text/plain": [
       "(47638, 30)"
      ]
     },
     "execution_count": 139,
     "metadata": {},
     "output_type": "execute_result"
    }
   ],
   "source": [
    "newdata.shape"
   ]
  },
  {
   "cell_type": "code",
   "execution_count": null,
   "metadata": {
    "collapsed": true
   },
   "outputs": [],
   "source": [
    "'''\n",
    "If you want to read this csv onto your local system and run some models locally, just run this \n",
    "block with a specified path.\n",
    "\n",
    "NOTE: outside of feature reduction, there are no differences between this and the original dataset. \n",
    "the 5 columns will still have NANs, there is no train-test splitting going on, etc. \n",
    "'''\n",
    "savePath = \"YOUR LOCAL PATH HERE\"\n",
    "newdata.to_csv(savePath)"
   ]
  },
  {
   "cell_type": "code",
   "execution_count": null,
   "metadata": {
    "collapsed": true
   },
   "outputs": [],
   "source": [
    "'''\n",
    "PART 2b -- MODELING\n",
    "\n",
    "Now we can start with some modeling to see what can produce the lowest MSE. \n",
    "OPTIONS FOR MODELING: \n",
    "Linear Regression - OLS (cross validate)\n",
    "Linear Regression - Lasso (cross validate, parameter grid search)\n",
    "Linear Regression - Ridge (cross validate, parameter grid search)\n",
    "Random Forest - (hyperparameter grid search)\n",
    "XGBoost - (hyperparameter grid search)\n",
    "'''"
   ]
  },
  {
   "cell_type": "code",
   "execution_count": null,
   "metadata": {
    "collapsed": true
   },
   "outputs": [],
   "source": []
  }
 ],
 "metadata": {
  "anaconda-cloud": {},
  "kernelspec": {
   "display_name": "Python 3",
   "language": "python",
   "name": "python3"
  },
  "language_info": {
   "codemirror_mode": {
    "name": "ipython",
    "version": 3
   },
   "file_extension": ".py",
   "mimetype": "text/x-python",
   "name": "python",
   "nbconvert_exporter": "python",
   "pygments_lexer": "ipython3",
   "version": "3.6.4"
  }
 },
 "nbformat": 4,
 "nbformat_minor": 1
}
