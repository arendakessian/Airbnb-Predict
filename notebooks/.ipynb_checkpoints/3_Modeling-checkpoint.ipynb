{
 "cells": [
  {
   "cell_type": "markdown",
   "metadata": {},
   "source": [
    "# 3 Modeling"
   ]
  },
  {
   "cell_type": "markdown",
   "metadata": {},
   "source": [
    "# 0) Import Modules"
   ]
  },
  {
   "cell_type": "code",
   "execution_count": 3,
   "metadata": {},
   "outputs": [],
   "source": [
    "import os\n",
    "import pandas\n",
    "from zipfile import ZipFile\n",
    "\n",
    "import pandas as pd\n",
    "import numpy as np\n",
    "\n",
    "import matplotlib.pyplot as plt\n",
    "%matplotlib inline\n",
    "import seaborn as sns\n",
    "\n",
    "from sklearn.model_selection import train_test_split\n",
    "from sklearn.linear_model import LinearRegression\n",
    "from sklearn import preprocessing\n",
    "from sklearn.preprocessing import LabelEncoder\n",
    "\n",
    "from sklearn.pipeline import Pipeline, FeatureUnion\n",
    "from sklearn.preprocessing import StandardScaler, OneHotEncoder\n",
    "from sklearn.base import BaseEstimator, TransformerMixin\n",
    "from sklearn.compose import ColumnTransformer\n",
    "from sklearn.metrics import mean_squared_error\n",
    "from sklearn.impute import SimpleImputer\n",
    "from sklearn.model_selection import GridSearchCV\n",
    "from sklearn.linear_model import LinearRegression, Ridge,BayesianRidge, ElasticNet \n",
    "from sklearn.metrics import r2_score, mean_absolute_error, mean_squared_error\n",
    "from sklearn.model_selection import cross_val_score\n",
    "from sklearn.ensemble import RandomForestRegressor,GradientBoostingRegressor\n",
    "from sklearn.model_selection import RandomizedSearchCV\n",
    "from sklearn.decomposition import PCA\n",
    "from sklearn.neighbors import KNeighborsRegressor"
   ]
  },
  {
   "cell_type": "markdown",
   "metadata": {},
   "source": [
    "# 1) Load Data"
   ]
  },
  {
   "cell_type": "code",
   "execution_count": 4,
   "metadata": {},
   "outputs": [],
   "source": [
    "'''\n",
    "Load the final data after two processing iterations.\n",
    "\n",
    "The raw data was initially cleaned by Ant which he put into airbnb_no_impute.csv which was then processed by\n",
    "Aren in the FeatureSelection.ipynb which created the final data used for modelling.\n",
    "'''\n",
    "\n",
    "data = pd.read_csv('C:\\\\Users\\\\eelis\\\\ds-ga1001\\\\data\\\\airbnb_eelis.csv')\n"
   ]
  },
  {
   "cell_type": "code",
   "execution_count": 5,
   "metadata": {},
   "outputs": [
    {
     "data": {
      "text/plain": [
       "(array([ 852., 1294., 1806., 3299., 3565., 3594., 3428., 5064., 3360.,\n",
       "        3479., 3806., 3095., 2955., 2355., 1286.]),\n",
       " array([3.4339872 , 3.5850843 , 3.73618139, 3.88727848, 4.03837557,\n",
       "        4.18947266, 4.34056975, 4.49166684, 4.64276393, 4.79386103,\n",
       "        4.94495812, 5.09605521, 5.2471523 , 5.39824939, 5.54934648,\n",
       "        5.70044357]),\n",
       " <a list of 15 Patch objects>)"
      ]
     },
     "execution_count": 5,
     "metadata": {},
     "output_type": "execute_result"
    },
    {
     "data": {
      "image/png": "[encoded data removed]",
      "text/plain": [
       "<Figure size 432x288 with 1 Axes>"
      ]
     },
     "metadata": {
      "needs_background": "light"
     },
     "output_type": "display_data"
    }
   ],
   "source": [
    "plt.hist(data['price'],bins = 15)"
   ]
  },
  {
   "cell_type": "code",
   "execution_count": 6,
   "metadata": {},
   "outputs": [],
   "source": [
    "'''\n",
    "Split data into X and y.\n",
    "'''\n",
    "\n",
    "y = data['price']\n",
    "X = data.drop('price',axis = 1)"
   ]
  },
  {
   "cell_type": "code",
   "execution_count": 7,
   "metadata": {},
   "outputs": [],
   "source": [
    "'''\n",
    "Split data into testing and final. \n",
    "\n",
    "**NOTE**\n",
    "The final dataset will be used only ONCE for the best performing model which we determine on the validation set. \n",
    "X_final and y_final will only be used at the very end of the script. X_train and y_train will contain BOTH the training AND\n",
    "validation sets.\n",
    "'''\n",
    "\n",
    "X_train, X_final, y_train, y_final = train_test_split(X, y, test_size=0.2, random_state = 42)"
   ]
  },
  {
   "cell_type": "markdown",
   "metadata": {},
   "source": [
    "# 2) Modeling"
   ]
  },
  {
   "cell_type": "markdown",
   "metadata": {},
   "source": [
    "# i) Baseline"
   ]
  },
  {
   "cell_type": "code",
   "execution_count": 8,
   "metadata": {},
   "outputs": [
    {
     "name": "stdout",
     "output_type": "stream",
     "text": [
      "0.12878079369512735\n",
      "0.012200885892865347\n"
     ]
    }
   ],
   "source": [
    "'''\n",
    "Using just a standard linear regression in order to get a baseline. 10 fold cv was used in order to evaluate the performance \n",
    "and the MSE was plotted on the graph.\n",
    "'''\n",
    "\n",
    "#Create model.\n",
    "lin_reg = LinearRegression()\n",
    "\n",
    "#Run 10 fold CV using MSE.\n",
    "scores = cross_val_score(lin_reg, X_train, y_train,scoring=\"neg_mean_squared_error\", cv = 10)\n",
    "scores =np.absolute(scores)\n",
    "\n",
    "#Print mean and std.\n",
    "print(scores.mean())\n",
    "print(scores.std())"
   ]
  },
  {
   "cell_type": "code",
   "execution_count": 213,
   "metadata": {},
   "outputs": [
    {
     "data": {
      "text/plain": [
       "<matplotlib.lines.Line2D at 0x24755cc7b70>"
      ]
     },
     "execution_count": 213,
     "metadata": {},
     "output_type": "execute_result"
    },
    {
     "data": {
      "image/png": "[encoded data removed]",
      "text/plain": [
       "<Figure size 432x288 with 1 Axes>"
      ]
     },
     "metadata": {
      "needs_background": "light"
     },
     "output_type": "display_data"
    }
   ],
   "source": [
    "'''\n",
    "Plot the MSE scores for each fold well as the mean MSE value as a horizontal line.\n",
    "'''\n",
    "#Set x and y axis\n",
    "vals = [i for i in range(1,len(scores)+1)]\n",
    "plt.bar(vals,scores, color = 'red')\n",
    "\n",
    "#Formatting\n",
    "plt.xlabel('CV Fold')\n",
    "plt.ylabel('MSE')\n",
    "plt.xticks(ticks=vals)\n",
    "plt.title('Baseline - linear regression')\n",
    "\n",
    "#Plot mean as horizontal line.\n",
    "plt.axhline(y=scores.mean(),linewidth=1, color='k')"
   ]
  },
  {
   "cell_type": "markdown",
   "metadata": {},
   "source": [
    "# ii) Improvements over baseline"
   ]
  },
  {
   "cell_type": "markdown",
   "metadata": {},
   "source": [
    "# Model 1: Elastic Net"
   ]
  },
  {
   "cell_type": "code",
   "execution_count": 9,
   "metadata": {},
   "outputs": [
    {
     "name": "stdout",
     "output_type": "stream",
     "text": [
      "Best parameter (CV score=-0.126):\n",
      "{'en__alpha': 0.01, 'en__l1_ratio': 0.75}\n"
     ]
    }
   ],
   "source": [
    "'''\n",
    "Apply elastic net in a pipeline that first scales the data and then searches through the state space\n",
    "via a randomized grid search (in order to limit computation time.\n",
    "'''\n",
    "\n",
    "#Create pipeline steps. Good idea to scale features for Elastic net.\n",
    "steps = [('scaler', StandardScaler()),\n",
    "         ('en', ElasticNet())]\n",
    "\n",
    "#Now set up the pipeline\n",
    "pipeline = Pipeline(steps)\n",
    "\n",
    "#Set up the parameter grid in a dictionary format.\n",
    "parameters = dict(en__alpha = [0,0.0001,0.005,0.01,0.05,0.1,0.2],\n",
    "                  en__l1_ratio = [0,0.25,0.5,0.75,1])\n",
    "\n",
    "#Run grid search.\n",
    "search_1 = GridSearchCV(pipeline, param_grid = parameters, cv = 5, scoring = 'neg_mean_squared_error')\n",
    "search_1.fit(X_train, y_train)\n",
    "\n",
    "#Print the score and parameter of the best model.\n",
    "print(\"Best parameter (CV score=%0.3f):\" % search_1.best_score_)\n",
    "print(search_1.best_params_)"
   ]
  },
  {
   "cell_type": "markdown",
   "metadata": {},
   "source": [
    "# Model 2: PCA and elastic net"
   ]
  },
  {
   "cell_type": "code",
   "execution_count": 227,
   "metadata": {},
   "outputs": [
    {
     "name": "stdout",
     "output_type": "stream",
     "text": [
      "Best parameter (CV score=-5.884):\n",
      "{'elastic__alpha': 0.01, 'elastic__l1_ratio': 0.75, 'pca__n_components': 25}\n"
     ]
    }
   ],
   "source": [
    "'''\n",
    "Evaluate if applying PCA followed by Elastic Net could lead to better performance.\n",
    "'''\n",
    "#Create Pipeline with Scaling, PCA and ElasticNet.\n",
    "pipeline = Pipeline(steps=[('scaler', StandardScaler()),('pca', PCA()), ('elastic', ElasticNet())])\n",
    "\n",
    "#Set parameter grid.\n",
    "parameters = dict(pca__n_components=[5,10,20,25],\n",
    "    elastic__alpha=[0,0.0001,0.005,0.01,0.05,0.1,0.2],\n",
    "    elastic__l1_ratio =[0,0.25,0.5,0.75,1]\n",
    ")\n",
    "\n",
    "#Run Random Grid Search.\n",
    "search_2 = GridSearchCV(pipeline, param_grid = parameters, cv = 5, scoring = 'neg_mean_squared_error')\n",
    "search_2.fit(X_train, y_train)\n",
    "\n",
    "#Print the score of the best model.\n",
    "print(\"Best parameter (CV score=%0.3f):\" % search_2.best_score_)\n",
    "print(search_2.best_params_)"
   ]
  },
  {
   "cell_type": "markdown",
   "metadata": {},
   "source": [
    "# Model 3: Random Forest"
   ]
  },
  {
   "cell_type": "code",
   "execution_count": 204,
   "metadata": {},
   "outputs": [
    {
     "name": "stdout",
     "output_type": "stream",
     "text": [
      "Best parameter (CV score=-0.084):\n",
      "{'rfr__max_features': 5, 'rfr__n_estimators': 1000}\n"
     ]
    }
   ],
   "source": [
    "'''\n",
    "Apply Random Forest.\n",
    "'''\n",
    "\n",
    "#No need to scale features for Random Forest.\n",
    "steps = [('rfr', RandomForestRegressor())]\n",
    "\n",
    "#Set up the pipeline\n",
    "pipeline = Pipeline(steps)\n",
    "\n",
    "#Set up the parameter grid. Not possible to check all parameters since it would take too long.\n",
    "parameters = dict(rfr__n_estimators = [50,100,200,1000],\n",
    "                  rfr__max_features = [1, 5, 20, 25],)\n",
    "\n",
    "#Run grid search\n",
    "search_3 = GridSearchCV(pipeline, param_grid = parameters, cv = 3, scoring = 'neg_mean_squared_error')\n",
    "search_3.fit(X_train, y_train)\n",
    "\n",
    "#Print the score of the best model\n",
    "print(\"Best parameter (CV score=%0.3f):\" % search_3.best_score_)\n",
    "print(search_3.best_params_)"
   ]
  },
  {
   "cell_type": "markdown",
   "metadata": {},
   "source": [
    "# Model 4 Gradient Boosting"
   ]
  },
  {
   "cell_type": "code",
   "execution_count": 205,
   "metadata": {},
   "outputs": [
    {
     "name": "stdout",
     "output_type": "stream",
     "text": [
      "Best parameter (CV score=-0.083):\n",
      "{'gbr__max_depth': 5, 'gbr__n_estimators': 200}\n"
     ]
    }
   ],
   "source": [
    "'''\n",
    "Apply Gradient Boosting.\n",
    "'''\n",
    "#No need to scale features for Gradient Boosting.\n",
    "steps = [('gbr',GradientBoostingRegressor())]\n",
    "\n",
    "#Set up the pipeline\n",
    "pipeline = Pipeline(steps)\n",
    "\n",
    "#Set up the parameter grid. Gradient boosting is quite robust against overfitting so used many estimators.\n",
    "parameters = dict(gbr__n_estimators = [50,100,200,1000],\n",
    "                  gbr__max_depth = [1,3,5,10],)\n",
    "\n",
    "#Run another grid search.\n",
    "search_4 = GridSearchCV(pipeline, param_grid = parameters, cv = 3, scoring = 'neg_mean_squared_error')\n",
    "#search_4 = RandomizedSearchCV(pipeline, param_distributions = parameters,n_iter =10, cv = 3, scoring = 'neg_mean_squared_error')\n",
    "search_4.fit(X_train, y_train)\n",
    "\n",
    "#Print the score of the best model.\n",
    "print(\"Best parameter (CV score=%0.3f):\" % search_4.best_score_)\n",
    "print(search_4.best_params_)"
   ]
  },
  {
   "cell_type": "markdown",
   "metadata": {},
   "source": [
    "# Model 5 KKN"
   ]
  },
  {
   "cell_type": "code",
   "execution_count": 206,
   "metadata": {},
   "outputs": [
    {
     "name": "stdout",
     "output_type": "stream",
     "text": [
      "Best parameter (CV score=-0.219):\n",
      "{'knn__n_neighbors': 20}\n"
     ]
    }
   ],
   "source": [
    "'''\n",
    "Use KNN as a non-parametric method.\n",
    "'''\n",
    "\n",
    "steps = [('knn',KNeighborsRegressor())]\n",
    "\n",
    "#Set up the pipeline\n",
    "pipeline = Pipeline(steps)\n",
    "\n",
    "#Set up the parameter grid. Gradient boosting is quite robust against overfitting so used many estimators.\n",
    "parameters = dict(knn__n_neighbors  = [1,3,5,10,20,50,100,150],)\n",
    "\n",
    "#Run another grid search.\n",
    "search_5 = GridSearchCV(pipeline, param_grid = parameters, cv = 5, scoring = 'neg_mean_squared_error')\n",
    "search_5.fit(X_train, y_train)\n",
    "\n",
    "#Print the score of the best model.\n",
    "print(\"Best parameter (CV score=%0.3f):\" % search_5.best_score_)\n",
    "print(search_5.best_params_)"
   ]
  },
  {
   "cell_type": "markdown",
   "metadata": {},
   "source": [
    "# Model comparison"
   ]
  },
  {
   "cell_type": "code",
   "execution_count": 225,
   "metadata": {},
   "outputs": [
    {
     "data": {
      "text/plain": [
       "<matplotlib.lines.Line2D at 0x24755dceb38>"
      ]
     },
     "execution_count": 225,
     "metadata": {},
     "output_type": "execute_result"
    },
    {
     "data": {
      "image/png": "[encoded data removed]",
      "text/plain": [
       "<Figure size 432x288 with 1 Axes>"
      ]
     },
     "metadata": {
      "needs_background": "light"
     },
     "output_type": "display_data"
    }
   ],
   "source": [
    "'''\n",
    "Compare each of the best performing models.\n",
    "'''\n",
    "#Add models to list.\n",
    "model_list=[]\n",
    "model_list.append(-search_1.best_score_)\n",
    "model_list.append(-search_2.best_score_)\n",
    "model_list.append(-search_3.best_score_)\n",
    "model_list.append(-search_4.best_score_)\n",
    "model_list.append(-search_5.best_score_)\n",
    "\n",
    "model_name = ['Elastic net','PCA','Random Forest','Gradient Boosting','KNN']\n",
    "\n",
    "plt.bar(model_name,model_list, color = 'red')\n",
    "\n",
    "#Formatting\n",
    "plt.xlabel('Model')\n",
    "plt.ylabel('MSE')\n",
    "plt.xticks(rotation='45')\n",
    "plt.title('Model comparison')\n",
    "\n",
    "#Plot baseline mean as horizontal line.\n",
    "plt.axhline(y=scores.mean(),linewidth=1, color='k')"
   ]
  },
  {
   "cell_type": "markdown",
   "metadata": {},
   "source": [
    "# Evaluate best model on testing data"
   ]
  },
  {
   "cell_type": "code",
   "execution_count": 11,
   "metadata": {},
   "outputs": [],
   "source": [
    "best_estimator = search_1.best_estimator_\n",
    "y_pred = best_estimator.predict(X_final)\n",
    "final_loss = mean_squared_error(y_final, y_pred)"
   ]
  },
  {
   "cell_type": "code",
   "execution_count": null,
   "metadata": {},
   "outputs": [],
   "source": []
  }
 ],
 "metadata": {
  "kernelspec": {
   "display_name": "Python 3",
   "language": "python",
   "name": "python3"
  },
  "language_info": {
   "codemirror_mode": {
    "name": "ipython",
    "version": 3
   },
   "file_extension": ".py",
   "mimetype": "text/x-python",
   "name": "python",
   "nbconvert_exporter": "python",
   "pygments_lexer": "ipython3",
   "version": "3.6.4"
  }
 },
 "nbformat": 4,
 "nbformat_minor": 2
}
