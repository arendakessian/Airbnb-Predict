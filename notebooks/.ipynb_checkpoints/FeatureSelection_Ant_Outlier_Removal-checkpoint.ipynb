{
 "cells": [
  {
   "cell_type": "markdown",
   "metadata": {
    "collapsed": true
   },
   "source": [
    "\n",
    "**GOAL OF THIS NOTEBOOK**  \n",
    "1. Explore inherent feature selection methods given by Random Forest.  \n",
    "2. Determine semi-arbitrary cutoff of % important, reduce using those features  \n",
    "3. Begin introductory model fitting, with goal of minimizing MSE as compared to $R^2$.  \n"
   ]
  },
  {
   "cell_type": "code",
   "execution_count": 2,
   "metadata": {
    "collapsed": true
   },
   "outputs": [
    {
     "data": {
      "text/plain": [
       "'\\nNOTE\\nThe only thing you should have to change to be able to\\nfully execute everything here is the \"path\" variable in the first block of code below. \\n'"
      ]
     },
     "execution_count": 2,
     "metadata": {},
     "output_type": "execute_result"
    }
   ],
   "source": [
    "'''\n",
    "NOTE\n",
    "The only thing you should have to change to be able to\n",
    "fully execute everything here is the \"path\" variable in the first block of code below. \n",
    "'''"
   ]
  },
  {
   "cell_type": "code",
   "execution_count": null,
   "metadata": {
    "collapsed": true
   },
   "outputs": [],
   "source": [
    "'''\n",
    "Data Pre-Processing\n",
    "'''"
   ]
  },
  {
   "cell_type": "code",
   "execution_count": 1,
   "metadata": {},
   "outputs": [],
   "source": [
    "import os\n",
    "from zipfile import ZipFile\n",
    "\n",
    "import pandas as pd\n",
    "import numpy as np\n",
    "\n",
    "import matplotlib.pyplot as plt\n",
    "%matplotlib inline\n",
    "import seaborn as sns\n",
    "\n",
    "import sklearn\n",
    "from sklearn.model_selection import train_test_split\n",
    "from sklearn.linear_model import LinearRegression\n",
    "from sklearn import preprocessing\n",
    "from sklearn.preprocessing import LabelEncoder\n",
    "from sklearn.pipeline import Pipeline\n",
    "from sklearn.preprocessing import Imputer\n",
    "from sklearn.preprocessing import StandardScaler, OneHotEncoder"
   ]
  },
  {
   "cell_type": "code",
   "execution_count": 2,
   "metadata": {},
   "outputs": [],
   "source": [
    "'''\n",
    "Change your directory to original project directory\n",
    "'''\n",
    "os.chdir(\"/Users/anhthyngo/Documents/NYU/Fall 2019/DS-GA 1001/project/ds-ga1001/\")"
   ]
  },
  {
   "cell_type": "code",
   "execution_count": 3,
   "metadata": {},
   "outputs": [
    {
     "name": "stdout",
     "output_type": "stream",
     "text": [
      "/Users/anhthyngo/Documents/NYU/Fall 2019/DS-GA 1001/project/ds-ga1001/data/airbnb_no_impute_20191202.csv.zip\n"
     ]
    }
   ],
   "source": [
    "cwd = os.getcwd()\n",
    "datadir = '/'.join(cwd.split('/')) + '/data/'\n",
    "listings = datadir + 'airbnb_no_impute_20191202.csv.zip'\n",
    "print(listings)"
   ]
  },
  {
   "cell_type": "code",
   "execution_count": 4,
   "metadata": {
    "scrolled": false
   },
   "outputs": [
    {
     "data": {
      "text/plain": [
       "(47720, 260)"
      ]
     },
     "execution_count": 4,
     "metadata": {},
     "output_type": "execute_result"
    }
   ],
   "source": [
    "pd.set_option('display.max_rows', None)\n",
    "pd.set_option('display.max_columns', None)\n",
    "zf = ZipFile(listings) \n",
    "data = pd.read_csv(zf.open(\"airbnb_no_impute_20191202.csv\"), low_memory=False)\n",
    "\n",
    "data.head(5)\n",
    "data.shape"
   ]
  },
  {
   "cell_type": "code",
   "execution_count": 5,
   "metadata": {},
   "outputs": [
    {
     "data": {
      "text/plain": [
       "(array([4.707e+04, 4.780e+02, 7.000e+01, 4.300e+01, 1.200e+01, 8.000e+00,\n",
       "        7.000e+00, 9.000e+00, 0.000e+00, 6.000e+00, 1.000e+00, 3.000e+00,\n",
       "        2.000e+00, 0.000e+00, 1.100e+01]),\n",
       " array([    0.        ,   666.66666667,  1333.33333333,  2000.        ,\n",
       "         2666.66666667,  3333.33333333,  4000.        ,  4666.66666667,\n",
       "         5333.33333333,  6000.        ,  6666.66666667,  7333.33333333,\n",
       "         8000.        ,  8666.66666667,  9333.33333333, 10000.        ]),\n",
       " <a list of 15 Patch objects>)"
      ]
     },
     "execution_count": 5,
     "metadata": {},
     "output_type": "execute_result"
    },
    {
     "data": {
      "image/png": "[encoded data removed]",
      "text/plain": [
       "<matplotlib.figure.Figure at 0x112173630>"
      ]
     },
     "metadata": {},
     "output_type": "display_data"
    }
   ],
   "source": [
    "plt.hist(data['price'],bins=15)"
   ]
  },
  {
   "cell_type": "code",
   "execution_count": 6,
   "metadata": {},
   "outputs": [
    {
     "data": {
      "text/html": [
       "<div>\n",
       "<style scoped>\n",
       "    .dataframe tbody tr th:only-of-type {\n",
       "        vertical-align: middle;\n",
       "    }\n",
       "\n",
       "    .dataframe tbody tr th {\n",
       "        vertical-align: top;\n",
       "    }\n",
       "\n",
       "    .dataframe thead th {\n",
       "        text-align: right;\n",
       "    }\n",
       "</style>\n",
       "<table border=\"1\" class=\"dataframe\">\n",
       "  <thead>\n",
       "    <tr style=\"text-align: right;\">\n",
       "      <th></th>\n",
       "      <th>column</th>\n",
       "      <th>5</th>\n",
       "      <th>95</th>\n",
       "    </tr>\n",
       "  </thead>\n",
       "  <tbody>\n",
       "    <tr>\n",
       "      <th>0</th>\n",
       "      <td>host_response_rate</td>\n",
       "      <td>0.330000</td>\n",
       "      <td>1.00000</td>\n",
       "    </tr>\n",
       "    <tr>\n",
       "      <th>1</th>\n",
       "      <td>host_listings_count</td>\n",
       "      <td>0.000000</td>\n",
       "      <td>168.00000</td>\n",
       "    </tr>\n",
       "    <tr>\n",
       "      <th>2</th>\n",
       "      <td>host_total_listings_count</td>\n",
       "      <td>0.000000</td>\n",
       "      <td>168.00000</td>\n",
       "    </tr>\n",
       "    <tr>\n",
       "      <th>3</th>\n",
       "      <td>zipcode</td>\n",
       "      <td>10002.000000</td>\n",
       "      <td>11418.00000</td>\n",
       "    </tr>\n",
       "    <tr>\n",
       "      <th>4</th>\n",
       "      <td>latitude</td>\n",
       "      <td>40.619551</td>\n",
       "      <td>40.85177</td>\n",
       "    </tr>\n",
       "  </tbody>\n",
       "</table>\n",
       "</div>"
      ],
      "text/plain": [
       "                      column             5           95\n",
       "0         host_response_rate      0.330000      1.00000\n",
       "1        host_listings_count      0.000000    168.00000\n",
       "2  host_total_listings_count      0.000000    168.00000\n",
       "3                    zipcode  10002.000000  11418.00000\n",
       "4                   latitude     40.619551     40.85177"
      ]
     },
     "execution_count": 6,
     "metadata": {},
     "output_type": "execute_result"
    }
   ],
   "source": [
    "columns = data.columns\n",
    "\n",
    "\n",
    "data_no = []\n",
    "\n",
    "for col in columns:\n",
    "    data_no.append([col,data[col].quantile(0.02),data[col].quantile(0.98)])\n",
    "        \n",
    "df = pd.DataFrame(data_no, columns = ['column','5','95']) \n",
    "df.head()"
   ]
  },
  {
   "cell_type": "code",
   "execution_count": 7,
   "metadata": {},
   "outputs": [
    {
     "name": "stdout",
     "output_type": "stream",
     "text": [
      "(31072, 260)\n",
      "(30132, 260)\n",
      "(30132, 260)\n",
      "(28928, 260)\n",
      "(27683, 260)\n",
      "(26957, 260)\n",
      "(26418, 260)\n",
      "(25938, 260)\n",
      "(25759, 260)\n",
      "(25631, 260)\n",
      "(25298, 260)\n",
      "(24834, 260)\n",
      "(24593, 260)\n",
      "(24593, 260)\n",
      "(24510, 260)\n",
      "(24491, 260)\n",
      "(24491, 260)\n",
      "(24491, 260)\n",
      "(24491, 260)\n",
      "(24491, 260)\n",
      "(24491, 260)\n",
      "(24491, 260)\n",
      "(24146, 260)\n",
      "(23356, 260)\n",
      "(22871, 260)\n",
      "(19746, 260)\n",
      "(19694, 260)\n",
      "(19667, 260)\n",
      "(19576, 260)\n",
      "(19513, 260)\n",
      "(19412, 260)\n",
      "(19373, 260)\n",
      "(19318, 260)\n",
      "(19240, 260)\n",
      "(18923, 260)\n",
      "(18582, 260)\n",
      "(18319, 260)\n",
      "(17920, 260)\n",
      "(15938, 260)\n",
      "(13242, 260)\n",
      "(13049, 260)\n",
      "(13049, 260)\n",
      "(13028, 260)\n",
      "(13028, 260)\n",
      "(13028, 260)\n",
      "(13028, 260)\n",
      "(13028, 260)\n",
      "(13028, 260)\n",
      "(13028, 260)\n",
      "(13028, 260)\n",
      "(13028, 260)\n",
      "(13028, 260)\n",
      "(13028, 260)\n",
      "(13028, 260)\n",
      "(13028, 260)\n",
      "(13028, 260)\n",
      "(12827, 260)\n",
      "(12810, 260)\n",
      "(12810, 260)\n",
      "(12810, 260)\n",
      "(12810, 260)\n",
      "(12810, 260)\n",
      "(12793, 260)\n",
      "(12793, 260)\n",
      "(12793, 260)\n",
      "(12781, 260)\n",
      "(12781, 260)\n",
      "(12769, 260)\n",
      "(12769, 260)\n",
      "(12769, 260)\n",
      "(12769, 260)\n",
      "(12769, 260)\n",
      "(12767, 260)\n",
      "(12767, 260)\n",
      "(12767, 260)\n",
      "(12482, 260)\n",
      "(12482, 260)\n",
      "(12482, 260)\n",
      "(12482, 260)\n",
      "(12482, 260)\n",
      "(12480, 260)\n",
      "(12480, 260)\n",
      "(12397, 260)\n",
      "(12381, 260)\n",
      "(12168, 260)\n",
      "(12168, 260)\n",
      "(12158, 260)\n",
      "(12088, 260)\n",
      "(12087, 260)\n",
      "(12087, 260)\n",
      "(12087, 260)\n",
      "(12087, 260)\n",
      "(12087, 260)\n",
      "(12087, 260)\n",
      "(12087, 260)\n",
      "(12087, 260)\n",
      "(12086, 260)\n",
      "(12066, 260)\n",
      "(12066, 260)\n",
      "(11985, 260)\n",
      "(11985, 260)\n",
      "(11985, 260)\n",
      "(11985, 260)\n",
      "(11851, 260)\n",
      "(11833, 260)\n",
      "(11833, 260)\n",
      "(11833, 260)\n",
      "(11833, 260)\n",
      "(11833, 260)\n",
      "(11833, 260)\n",
      "(11808, 260)\n",
      "(11802, 260)\n",
      "(11802, 260)\n",
      "(11802, 260)\n",
      "(11802, 260)\n",
      "(11802, 260)\n",
      "(11802, 260)\n",
      "(11802, 260)\n",
      "(11802, 260)\n",
      "(11788, 260)\n",
      "(11779, 260)\n",
      "(11779, 260)\n",
      "(11739, 260)\n",
      "(11736, 260)\n",
      "(11736, 260)\n",
      "(11736, 260)\n",
      "(11736, 260)\n",
      "(11728, 260)\n",
      "(11623, 260)\n",
      "(11623, 260)\n",
      "(11622, 260)\n",
      "(11622, 260)\n",
      "(11622, 260)\n",
      "(11480, 260)\n",
      "(11480, 260)\n",
      "(11480, 260)\n",
      "(11480, 260)\n",
      "(11480, 260)\n",
      "(11480, 260)\n",
      "(11480, 260)\n",
      "(11458, 260)\n",
      "(11458, 260)\n",
      "(11458, 260)\n",
      "(11458, 260)\n",
      "(11458, 260)\n",
      "(11458, 260)\n",
      "(11458, 260)\n",
      "(11436, 260)\n",
      "(11436, 260)\n",
      "(11436, 260)\n",
      "(11436, 260)\n",
      "(11436, 260)\n",
      "(11436, 260)\n",
      "(11436, 260)\n",
      "(11436, 260)\n",
      "(11436, 260)\n",
      "(11436, 260)\n",
      "(11414, 260)\n",
      "(11370, 260)\n",
      "(11370, 260)\n",
      "(11370, 260)\n",
      "(11370, 260)\n",
      "(11370, 260)\n",
      "(11370, 260)\n",
      "(11370, 260)\n",
      "(11370, 260)\n",
      "(11250, 260)\n",
      "(11158, 260)\n",
      "(11158, 260)\n",
      "(11154, 260)\n",
      "(11154, 260)\n",
      "(11154, 260)\n",
      "(11154, 260)\n",
      "(11141, 260)\n",
      "(11141, 260)\n",
      "(11141, 260)\n",
      "(11141, 260)\n",
      "(11141, 260)\n",
      "(11137, 260)\n",
      "(11137, 260)\n",
      "(11134, 260)\n",
      "(10888, 260)\n",
      "(10888, 260)\n",
      "(10888, 260)\n",
      "(10873, 260)\n",
      "(10873, 260)\n",
      "(10873, 260)\n",
      "(10873, 260)\n",
      "(10870, 260)\n",
      "(10870, 260)\n",
      "(10869, 260)\n",
      "(10822, 260)\n",
      "(10822, 260)\n",
      "(10822, 260)\n",
      "(10822, 260)\n",
      "(10822, 260)\n",
      "(10822, 260)\n",
      "(10822, 260)\n",
      "(10822, 260)\n",
      "(10822, 260)\n",
      "(10822, 260)\n",
      "(10822, 260)\n",
      "(10822, 260)\n",
      "(10822, 260)\n",
      "(10822, 260)\n",
      "(10822, 260)\n",
      "(10822, 260)\n",
      "(10822, 260)\n",
      "(10822, 260)\n",
      "(10818, 260)\n",
      "(10818, 260)\n",
      "(10817, 260)\n",
      "(10801, 260)\n",
      "(10801, 260)\n",
      "(10792, 260)\n",
      "(10788, 260)\n",
      "(10788, 260)\n",
      "(10787, 260)\n",
      "(10787, 260)\n",
      "(10787, 260)\n",
      "(10787, 260)\n",
      "(10787, 260)\n",
      "(10787, 260)\n",
      "(10787, 260)\n",
      "(10787, 260)\n",
      "(10787, 260)\n",
      "(10787, 260)\n",
      "(10668, 260)\n",
      "(10659, 260)\n",
      "(10658, 260)\n",
      "(10612, 260)\n",
      "(10612, 260)\n",
      "(10612, 260)\n",
      "(10612, 260)\n",
      "(10612, 260)\n",
      "(10611, 260)\n",
      "(10601, 260)\n",
      "(10594, 260)\n",
      "(10540, 260)\n",
      "(10539, 260)\n",
      "(10539, 260)\n",
      "(10533, 260)\n",
      "(10533, 260)\n",
      "(10528, 260)\n",
      "(10528, 260)\n",
      "(10528, 260)\n",
      "(10528, 260)\n",
      "(10528, 260)\n",
      "(10528, 260)\n",
      "(10504, 260)\n",
      "(10495, 260)\n",
      "(10437, 260)\n",
      "(10380, 260)\n",
      "(10380, 260)\n",
      "(10380, 260)\n",
      "(10380, 260)\n",
      "(10378, 260)\n",
      "(10378, 260)\n",
      "(10378, 260)\n",
      "(10377, 260)\n"
     ]
    }
   ],
   "source": [
    "for index, row in df.iterrows():\n",
    "   \n",
    "    data = data[(data[df['column'][index]]>= df['5'][index]) & (data[df['column'][index]] <= df['95'][index])]\n",
    "    print(data.shape)\n"
   ]
  },
  {
   "cell_type": "code",
   "execution_count": 8,
   "metadata": {},
   "outputs": [
    {
     "data": {
      "text/plain": [
       "(array([2085., 2252., 2039., 1323.,  830.,  702.,  438.,  177.,  217.,\n",
       "          94.,   41.,   68.,   48.,   10.,   53.]),\n",
       " array([ 34. ,  66.4,  98.8, 131.2, 163.6, 196. , 228.4, 260.8, 293.2,\n",
       "        325.6, 358. , 390.4, 422.8, 455.2, 487.6, 520. ]),\n",
       " <a list of 15 Patch objects>)"
      ]
     },
     "execution_count": 8,
     "metadata": {},
     "output_type": "execute_result"
    },
    {
     "data": {
      "image/png": "[encoded data removed]",
      "text/plain": [
       "<matplotlib.figure.Figure at 0x1363b9828>"
      ]
     },
     "metadata": {},
     "output_type": "display_data"
    }
   ],
   "source": [
    "plt.hist(data['price'],bins=15)"
   ]
  },
  {
   "cell_type": "code",
   "execution_count": 9,
   "metadata": {},
   "outputs": [],
   "source": [
    "X = data.drop('price',axis=1)\n",
    "Y = data.pop('price')"
   ]
  },
  {
   "cell_type": "code",
   "execution_count": 10,
   "metadata": {},
   "outputs": [
    {
     "name": "stdout",
     "output_type": "stream",
     "text": [
      "(10377, 259)\n"
     ]
    },
    {
     "name": "stderr",
     "output_type": "stream",
     "text": [
      "IOPub data rate exceeded.\n",
      "The notebook server will temporarily stop sending output\n",
      "to the client in order to avoid crashing it.\n",
      "To change this limit, set the config variable\n",
      "`--NotebookApp.iopub_data_rate_limit`.\n",
      "\n",
      "Current values:\n",
      "NotebookApp.iopub_data_rate_limit=1000000.0 (bytes/sec)\n",
      "NotebookApp.rate_limit_window=3.0 (secs)\n",
      "\n"
     ]
    }
   ],
   "source": [
    "print(X.shape)\n",
    "print(X)"
   ]
  },
  {
   "cell_type": "code",
   "execution_count": 11,
   "metadata": {},
   "outputs": [
    {
     "data": {
      "text/plain": [
       "[]"
      ]
     },
     "execution_count": 11,
     "metadata": {},
     "output_type": "execute_result"
    }
   ],
   "source": [
    "nan_cols = [i for i in X.columns if X[i].isnull().any()]\n",
    "nan_cols"
   ]
  },
  {
   "cell_type": "code",
   "execution_count": 13,
   "metadata": {},
   "outputs": [
    {
     "data": {
      "text/plain": [
       "\"\\nSome columns have NANs. To move forward with feature selection, these will be imputed. \\nWhen we get to the pipeline implementation, we can be more careful about this. \\nFor now, as in line with the rest of our analysis, we'll impute with median. \\n\\nWe will separately impute our training and testing split (block below)\\n\""
      ]
     },
     "execution_count": 13,
     "metadata": {},
     "output_type": "execute_result"
    }
   ],
   "source": [
    "'''\n",
    "Some columns have NANs. To move forward with feature selection, these will be imputed. \n",
    "When we get to the pipeline implementation, we can be more careful about this. \n",
    "For now, as in line with the rest of our analysis, we'll impute with median. \n",
    "\n",
    "We will separately impute our training and testing split (block below)\n",
    "'''"
   ]
  },
  {
   "cell_type": "code",
   "execution_count": 14,
   "metadata": {},
   "outputs": [],
   "source": [
    "'''\n",
    "PART 1 -- INHERENT FEATURE SELECTION OF RANDOM FOREST\n",
    "Essentially here we're just creating some notion of how a Regression RF does in terms of mean accuracy with or without \n",
    "certain features.\n",
    "While it's worth nothing there is zero model optimization going on here, there's still information to be gained. \n",
    "'''\n",
    "from sklearn.model_selection import train_test_split\n",
    "Xtrain,Xtest,Ytrain,Ytest = train_test_split(X,Y,test_size=.2,random_state=42)"
   ]
  },
  {
   "cell_type": "code",
   "execution_count": 15,
   "metadata": {},
   "outputs": [],
   "source": [
    "for col in nan_cols:\n",
    "    Xtrain[col].fillna(Xtrain[col].median(),inplace=True)\n",
    "    Xtest[col].fillna(Xtest[col].median(),inplace=True)\n",
    "\n"
   ]
  },
  {
   "cell_type": "code",
   "execution_count": 16,
   "metadata": {},
   "outputs": [
    {
     "name": "stderr",
     "output_type": "stream",
     "text": [
      "/Users/anhthyngo/anaconda3/lib/python3.6/site-packages/sklearn/ensemble/forest.py:245: FutureWarning: The default value of n_estimators will change from 10 in version 0.20 to 100 in 0.22.\n",
      "  \"10 in version 0.20 to 100 in 0.22.\", FutureWarning)\n"
     ]
    }
   ],
   "source": [
    "from sklearn.ensemble import RandomForestRegressor\n",
    "regr = RandomForestRegressor()\n",
    "model = regr.fit(Xtrain,Ytrain)"
   ]
  },
  {
   "cell_type": "code",
   "execution_count": 17,
   "metadata": {},
   "outputs": [
    {
     "data": {
      "text/plain": [
       "\"\\nNow that the model has been fit, we can look at what features it deems to be important. \\nIn addition, it's worth knowing the ratio of important variables to overall features. \\n\""
      ]
     },
     "execution_count": 17,
     "metadata": {},
     "output_type": "execute_result"
    }
   ],
   "source": [
    "'''\n",
    "Now that the model has been fit, we can look at what features it deems to be important. \n",
    "In addition, it's worth knowing the ratio of important variables to overall features. \n",
    "'''"
   ]
  },
  {
   "cell_type": "code",
   "execution_count": 18,
   "metadata": {},
   "outputs": [],
   "source": [
    "feature_importances = model.feature_importances_\n",
    "sorted_indices = np.argsort(feature_importances)"
   ]
  },
  {
   "cell_type": "code",
   "execution_count": 19,
   "metadata": {},
   "outputs": [
    {
     "data": {
      "text/plain": [
       "'\\nThe following block will produce a sorted list of the columns with a feature importance > .005,\\nas well as some additional information (discussed above) that is worth knowing.\\n'"
      ]
     },
     "execution_count": 19,
     "metadata": {},
     "output_type": "execute_result"
    }
   ],
   "source": [
    "'''\n",
    "The following block will produce a sorted list of the columns with a feature importance > .005,\n",
    "as well as some additional information (discussed above) that is worth knowing.\n",
    "'''"
   ]
  },
  {
   "cell_type": "code",
   "execution_count": 20,
   "metadata": {},
   "outputs": [
    {
     "name": "stdout",
     "output_type": "stream",
     "text": [
      "room_type_Entire home/apt 0.33768360524965063\n",
      "zipcode 0.10377417196946767\n",
      "bedrooms 0.0752999576764703\n",
      "longitude 0.05761194929564026\n",
      "latitude 0.04214933929328096\n",
      "cleaning_fee 0.025602194114452796\n",
      "accommodates 0.023050163652737272\n",
      "bathrooms 0.022900397092237745\n",
      "availability_60 0.020986219060952705\n",
      "availability_365 0.014847781664250296\n",
      "availability_90 0.01381432201751489\n",
      "reviews_per_month 0.013416381595139712\n",
      "guests_included 0.012322303873223046\n",
      "availability_30 0.012261161490314917\n",
      "review_scores_rating 0.010714678548164805\n",
      "number_of_reviews 0.009670729925755284\n",
      "security_deposit 0.009610834541142815\n",
      "minimum_nights 0.009284002853015784\n",
      "extra_people 0.008368965611627484\n",
      "maximum_minimum_nights 0.007615685648763563\n",
      "minimum_minimum_nights 0.007124921263434509\n",
      "minimum_nights_avg_ntm 0.005991708289762878\n",
      "number_of_reviews_ltm 0.0057553720801132744\n",
      "-------------------------------------------------------------------------\n",
      "23 variables account for 84.99 % of the feature importance.\n",
      "\n",
      "\n",
      "Can account for 84.99 % of the feature importance deemed by the model with 8.88 % \n",
      " of the original number of features\n",
      "-------------------------------------------------------------------------\n"
     ]
    }
   ],
   "source": [
    "total = 0 \n",
    "reduced_features = []\n",
    "for i in range(len(sorted_indices)):\n",
    "    feature , importance = list(X.columns)[sorted_indices[-i]], feature_importances[sorted_indices[-i]]\n",
    "    if(importance > .005):\n",
    "        reduced_features.append(feature)\n",
    "        total+=importance\n",
    "        print(feature,importance)\n",
    "print(\"-------------------------------------------------------------------------\")\n",
    "print(len(feature_importances[feature_importances>=.005]),\"variables account for\",round(total*100,2),\"% of the feature importance.\")\n",
    "print(\"\\n\")\n",
    "print(\"Can account for\",round(total*100,2),\"% of the feature importance deemed by the model with\",round((len(feature_importances[feature_importances>=.005])/X.shape[1])*100,2),\"% \\n of the original number of features\")\n",
    "print(\"-------------------------------------------------------------------------\")"
   ]
  },
  {
   "cell_type": "code",
   "execution_count": 21,
   "metadata": {},
   "outputs": [
    {
     "data": {
      "text/plain": [
       "'\\nCONCLUSION\\n29 variables account for 92% of feature importance seems to be a good tradeoff between\\ncomplexity and feature relevance. We can move forward from here\\n'"
      ]
     },
     "execution_count": 21,
     "metadata": {},
     "output_type": "execute_result"
    }
   ],
   "source": [
    "'''\n",
    "CONCLUSION\n",
    "29 variables account for 92% of feature importance seems to be a good tradeoff between\n",
    "complexity and feature relevance. We can move forward from here\n",
    "'''"
   ]
  },
  {
   "cell_type": "code",
   "execution_count": 22,
   "metadata": {},
   "outputs": [
    {
     "data": {
      "text/plain": [
       "'\\nPART 2a-- CREATING REDUCED DATASET\\n'"
      ]
     },
     "execution_count": 22,
     "metadata": {},
     "output_type": "execute_result"
    }
   ],
   "source": [
    "'''\n",
    "PART 2a-- CREATING REDUCED DATASET\n",
    "'''"
   ]
  },
  {
   "cell_type": "code",
   "execution_count": 23,
   "metadata": {},
   "outputs": [
    {
     "data": {
      "text/html": [
       "<div>\n",
       "<style scoped>\n",
       "    .dataframe tbody tr th:only-of-type {\n",
       "        vertical-align: middle;\n",
       "    }\n",
       "\n",
       "    .dataframe tbody tr th {\n",
       "        vertical-align: top;\n",
       "    }\n",
       "\n",
       "    .dataframe thead th {\n",
       "        text-align: right;\n",
       "    }\n",
       "</style>\n",
       "<table border=\"1\" class=\"dataframe\">\n",
       "  <thead>\n",
       "    <tr style=\"text-align: right;\">\n",
       "      <th></th>\n",
       "      <th>zipcode</th>\n",
       "      <th>latitude</th>\n",
       "      <th>longitude</th>\n",
       "      <th>accommodates</th>\n",
       "      <th>bathrooms</th>\n",
       "      <th>bedrooms</th>\n",
       "      <th>guests_included</th>\n",
       "      <th>minimum_nights</th>\n",
       "      <th>minimum_minimum_nights</th>\n",
       "      <th>maximum_minimum_nights</th>\n",
       "      <th>minimum_nights_avg_ntm</th>\n",
       "      <th>availability_30</th>\n",
       "      <th>availability_60</th>\n",
       "      <th>availability_90</th>\n",
       "      <th>availability_365</th>\n",
       "      <th>number_of_reviews</th>\n",
       "      <th>number_of_reviews_ltm</th>\n",
       "      <th>review_scores_rating</th>\n",
       "      <th>reviews_per_month</th>\n",
       "      <th>extra_people</th>\n",
       "      <th>cleaning_fee</th>\n",
       "      <th>security_deposit</th>\n",
       "      <th>room_type_Entire home/apt</th>\n",
       "      <th>price</th>\n",
       "    </tr>\n",
       "  </thead>\n",
       "  <tbody>\n",
       "    <tr>\n",
       "      <th>5</th>\n",
       "      <td>10009</td>\n",
       "      <td>40.72764</td>\n",
       "      <td>-73.97949</td>\n",
       "      <td>2</td>\n",
       "      <td>1.0</td>\n",
       "      <td>1.0</td>\n",
       "      <td>2</td>\n",
       "      <td>30</td>\n",
       "      <td>30</td>\n",
       "      <td>30</td>\n",
       "      <td>30.0</td>\n",
       "      <td>12</td>\n",
       "      <td>42</td>\n",
       "      <td>72</td>\n",
       "      <td>347</td>\n",
       "      <td>94</td>\n",
       "      <td>0</td>\n",
       "      <td>95.0</td>\n",
       "      <td>0.73</td>\n",
       "      <td>15.0</td>\n",
       "      <td>75.0</td>\n",
       "      <td>500.0</td>\n",
       "      <td>1</td>\n",
       "      <td>116.0</td>\n",
       "    </tr>\n",
       "    <tr>\n",
       "      <th>7</th>\n",
       "      <td>10025</td>\n",
       "      <td>40.80316</td>\n",
       "      <td>-73.96545</td>\n",
       "      <td>2</td>\n",
       "      <td>1.0</td>\n",
       "      <td>1.0</td>\n",
       "      <td>1</td>\n",
       "      <td>5</td>\n",
       "      <td>5</td>\n",
       "      <td>5</td>\n",
       "      <td>5.0</td>\n",
       "      <td>1</td>\n",
       "      <td>1</td>\n",
       "      <td>1</td>\n",
       "      <td>40</td>\n",
       "      <td>54</td>\n",
       "      <td>12</td>\n",
       "      <td>93.0</td>\n",
       "      <td>0.43</td>\n",
       "      <td>0.0</td>\n",
       "      <td>75.0</td>\n",
       "      <td>450.0</td>\n",
       "      <td>1</td>\n",
       "      <td>135.0</td>\n",
       "    </tr>\n",
       "    <tr>\n",
       "      <th>18</th>\n",
       "      <td>11216</td>\n",
       "      <td>40.68371</td>\n",
       "      <td>-73.94028</td>\n",
       "      <td>5</td>\n",
       "      <td>1.0</td>\n",
       "      <td>1.0</td>\n",
       "      <td>4</td>\n",
       "      <td>2</td>\n",
       "      <td>2</td>\n",
       "      <td>2</td>\n",
       "      <td>2.0</td>\n",
       "      <td>3</td>\n",
       "      <td>14</td>\n",
       "      <td>30</td>\n",
       "      <td>279</td>\n",
       "      <td>96</td>\n",
       "      <td>27</td>\n",
       "      <td>95.0</td>\n",
       "      <td>0.78</td>\n",
       "      <td>15.0</td>\n",
       "      <td>90.0</td>\n",
       "      <td>300.0</td>\n",
       "      <td>1</td>\n",
       "      <td>120.0</td>\n",
       "    </tr>\n",
       "    <tr>\n",
       "      <th>19</th>\n",
       "      <td>11218</td>\n",
       "      <td>40.65599</td>\n",
       "      <td>-73.97519</td>\n",
       "      <td>2</td>\n",
       "      <td>1.0</td>\n",
       "      <td>1.0</td>\n",
       "      <td>1</td>\n",
       "      <td>1</td>\n",
       "      <td>1</td>\n",
       "      <td>1</td>\n",
       "      <td>1.0</td>\n",
       "      <td>19</td>\n",
       "      <td>48</td>\n",
       "      <td>78</td>\n",
       "      <td>78</td>\n",
       "      <td>21</td>\n",
       "      <td>17</td>\n",
       "      <td>96.0</td>\n",
       "      <td>1.30</td>\n",
       "      <td>20.0</td>\n",
       "      <td>35.0</td>\n",
       "      <td>0.0</td>\n",
       "      <td>0</td>\n",
       "      <td>60.0</td>\n",
       "    </tr>\n",
       "    <tr>\n",
       "      <th>23</th>\n",
       "      <td>10027</td>\n",
       "      <td>40.81305</td>\n",
       "      <td>-73.95466</td>\n",
       "      <td>2</td>\n",
       "      <td>1.0</td>\n",
       "      <td>1.0</td>\n",
       "      <td>1</td>\n",
       "      <td>2</td>\n",
       "      <td>2</td>\n",
       "      <td>2</td>\n",
       "      <td>2.0</td>\n",
       "      <td>0</td>\n",
       "      <td>4</td>\n",
       "      <td>27</td>\n",
       "      <td>287</td>\n",
       "      <td>95</td>\n",
       "      <td>22</td>\n",
       "      <td>98.0</td>\n",
       "      <td>1.48</td>\n",
       "      <td>15.0</td>\n",
       "      <td>50.0</td>\n",
       "      <td>150.0</td>\n",
       "      <td>0</td>\n",
       "      <td>52.0</td>\n",
       "    </tr>\n",
       "  </tbody>\n",
       "</table>\n",
       "</div>"
      ],
      "text/plain": [
       "    zipcode  latitude  longitude  accommodates  bathrooms  bedrooms  \\\n",
       "5     10009  40.72764  -73.97949             2        1.0       1.0   \n",
       "7     10025  40.80316  -73.96545             2        1.0       1.0   \n",
       "18    11216  40.68371  -73.94028             5        1.0       1.0   \n",
       "19    11218  40.65599  -73.97519             2        1.0       1.0   \n",
       "23    10027  40.81305  -73.95466             2        1.0       1.0   \n",
       "\n",
       "    guests_included  minimum_nights  minimum_minimum_nights  \\\n",
       "5                 2              30                      30   \n",
       "7                 1               5                       5   \n",
       "18                4               2                       2   \n",
       "19                1               1                       1   \n",
       "23                1               2                       2   \n",
       "\n",
       "    maximum_minimum_nights  minimum_nights_avg_ntm  availability_30  \\\n",
       "5                       30                    30.0               12   \n",
       "7                        5                     5.0                1   \n",
       "18                       2                     2.0                3   \n",
       "19                       1                     1.0               19   \n",
       "23                       2                     2.0                0   \n",
       "\n",
       "    availability_60  availability_90  availability_365  number_of_reviews  \\\n",
       "5                42               72               347                 94   \n",
       "7                 1                1                40                 54   \n",
       "18               14               30               279                 96   \n",
       "19               48               78                78                 21   \n",
       "23                4               27               287                 95   \n",
       "\n",
       "    number_of_reviews_ltm  review_scores_rating  reviews_per_month  \\\n",
       "5                       0                  95.0               0.73   \n",
       "7                      12                  93.0               0.43   \n",
       "18                     27                  95.0               0.78   \n",
       "19                     17                  96.0               1.30   \n",
       "23                     22                  98.0               1.48   \n",
       "\n",
       "    extra_people  cleaning_fee  security_deposit  room_type_Entire home/apt  \\\n",
       "5           15.0          75.0             500.0                          1   \n",
       "7            0.0          75.0             450.0                          1   \n",
       "18          15.0          90.0             300.0                          1   \n",
       "19          20.0          35.0               0.0                          0   \n",
       "23          15.0          50.0             150.0                          0   \n",
       "\n",
       "    price  \n",
       "5   116.0  \n",
       "7   135.0  \n",
       "18  120.0  \n",
       "19   60.0  \n",
       "23   52.0  "
      ]
     },
     "execution_count": 23,
     "metadata": {},
     "output_type": "execute_result"
    }
   ],
   "source": [
    "'''\n",
    "Re-reading in data so we don't have any carryover from modifications in step1\n",
    "'''\n",
    "\n",
    "#data = pd.read_csv(zf.open(\"airbnb_no_impute_20191202.csv\"), low_memory=False)\n",
    "#reduced_features.append('price')\n",
    "data =  data[[c for c in data.columns if c in reduced_features]]\n",
    "data['price'] = Y\n",
    "data.head()"
   ]
  },
  {
   "cell_type": "code",
   "execution_count": 24,
   "metadata": {},
   "outputs": [
    {
     "data": {
      "text/plain": [
       "(array([2085., 2252., 2039., 1323.,  830.,  702.,  438.,  177.,  217.,\n",
       "          94.,   41.,   68.,   48.,   10.,   53.]),\n",
       " array([ 34. ,  66.4,  98.8, 131.2, 163.6, 196. , 228.4, 260.8, 293.2,\n",
       "        325.6, 358. , 390.4, 422.8, 455.2, 487.6, 520. ]),\n",
       " <a list of 15 Patch objects>)"
      ]
     },
     "execution_count": 24,
     "metadata": {},
     "output_type": "execute_result"
    },
    {
     "data": {
      "image/png": "[encoded data removed]",
      "text/plain": [
       "<matplotlib.figure.Figure at 0x12235f160>"
      ]
     },
     "metadata": {},
     "output_type": "display_data"
    }
   ],
   "source": [
    "plt.hist(data['price'],bins=15)"
   ]
  },
  {
   "cell_type": "code",
   "execution_count": 25,
   "metadata": {},
   "outputs": [
    {
     "data": {
      "text/plain": [
       "(10377, 24)"
      ]
     },
     "execution_count": 25,
     "metadata": {},
     "output_type": "execute_result"
    }
   ],
   "source": [
    "data.shape"
   ]
  },
  {
   "cell_type": "code",
   "execution_count": 26,
   "metadata": {},
   "outputs": [],
   "source": [
    "'''\n",
    "If you want to read this csv onto your local system and run some models locally, just run this \n",
    "block with a specified path.\n",
    "\n",
    "NOTE: outside of feature reduction, there are no differences between this and the original dataset. \n",
    "the 5 columns will still have NANs, there is no train-test splitting going on, etc. \n",
    "'''\n",
    "\n",
    "data.to_csv(os.getcwd()+'/data/airbnb_feature_selection.csv.gz', index=False, compression='gzip')"
   ]
  },
  {
   "cell_type": "code",
   "execution_count": null,
   "metadata": {
    "collapsed": true
   },
   "outputs": [],
   "source": [
    "'''\n",
    "PART 2b -- MODELING\n",
    "\n",
    "Now we can start with some modeling to see what can produce the lowest MSE. \n",
    "OPTIONS FOR MODELING: \n",
    "Linear Regression - OLS (cross validate)\n",
    "Linear Regression - Lasso (cross validate, parameter grid search)\n",
    "Linear Regression - Ridge (cross validate, parameter grid search)\n",
    "Random Forest - (hyperparameter grid search)\n",
    "XGBoost - (hyperparameter grid search)\n",
    "'''"
   ]
  },
  {
   "cell_type": "code",
   "execution_count": null,
   "metadata": {
    "collapsed": true
   },
   "outputs": [],
   "source": []
  }
 ],
 "metadata": {
  "anaconda-cloud": {},
  "kernelspec": {
   "display_name": "Python 3",
   "language": "python",
   "name": "python3"
  },
  "language_info": {
   "codemirror_mode": {
    "name": "ipython",
    "version": 3
   },
   "file_extension": ".py",
   "mimetype": "text/x-python",
   "name": "python",
   "nbconvert_exporter": "python",
   "pygments_lexer": "ipython3",
   "version": "3.6.4"
  }
 },
 "nbformat": 4,
 "nbformat_minor": 1
}
